{
  "nbformat": 4,
  "nbformat_minor": 0,
  "metadata": {
    "colab": {
      "name": "Kfall.ipynb",
      "provenance": []
    },
    "kernelspec": {
      "name": "python3",
      "display_name": "Python 3"
    },
    "language_info": {
      "name": "python"
    },
    "accelerator": "GPU"
  },
  "cells": [
    {
      "cell_type": "code",
      "execution_count": null,
      "metadata": {
        "colab": {
          "base_uri": "https://localhost:8080/"
        },
        "id": "RobBZwTTxrsC",
        "outputId": "050821b2-c476-4bd8-8900-46c7077223bf"
      },
      "outputs": [
        {
          "output_type": "stream",
          "name": "stdout",
          "text": [
            "Drive already mounted at /content/MyDrive; to attempt to forcibly remount, call drive.mount(\"/content/MyDrive\", force_remount=True).\n"
          ]
        }
      ],
      "source": [
        "from google.colab import drive\n",
        "drive.mount('/content/MyDrive')"
      ]
    },
    {
      "cell_type": "code",
      "source": [
        "import numpy as np\n",
        "import pandas as pd\n",
        "\n",
        "import seaborn as sns\n",
        "import matplotlib.pyplot as plt \n",
        "%matplotlib inline\n",
        "\n",
        "# import SVC classifier\n",
        "from sklearn.svm import SVC\n",
        "\n",
        "# import metrics to compute accuracy (Evulate)\n",
        "from sklearn.metrics import accuracy_score, confusion_matrix,classification_report\n",
        "from sklearn.model_selection import cross_val_score, GridSearchCV"
      ],
      "metadata": {
        "id": "3GJADzrqx67A"
      },
      "execution_count": null,
      "outputs": []
    },
    {
      "cell_type": "code",
      "source": [
        " data = pd.read_csv(\"/content/MyDrive/MyDrive/KFall_Data.csv\")"
      ],
      "metadata": {
        "id": "cO6pWZeG7kVL"
      },
      "execution_count": null,
      "outputs": []
    },
    {
      "cell_type": "code",
      "source": [
        "data"
      ],
      "metadata": {
        "colab": {
          "base_uri": "https://localhost:8080/",
          "height": 424
        },
        "id": "RnmBjSb174pj",
        "outputId": "f4a2e5d6-688c-411a-b07e-41553367d7ed"
      },
      "execution_count": null,
      "outputs": [
        {
          "output_type": "execute_result",
          "data": {
            "text/html": [
              "\n",
              "  <div id=\"df-3fa19670-f32a-4be4-9d51-11003db7d2d4\">\n",
              "    <div class=\"colab-df-container\">\n",
              "      <div>\n",
              "<style scoped>\n",
              "    .dataframe tbody tr th:only-of-type {\n",
              "        vertical-align: middle;\n",
              "    }\n",
              "\n",
              "    .dataframe tbody tr th {\n",
              "        vertical-align: top;\n",
              "    }\n",
              "\n",
              "    .dataframe thead th {\n",
              "        text-align: right;\n",
              "    }\n",
              "</style>\n",
              "<table border=\"1\" class=\"dataframe\">\n",
              "  <thead>\n",
              "    <tr style=\"text-align: right;\">\n",
              "      <th></th>\n",
              "      <th>AccX</th>\n",
              "      <th>AccY</th>\n",
              "      <th>AccZ</th>\n",
              "      <th>GyrX</th>\n",
              "      <th>GyrY</th>\n",
              "      <th>GyrZ</th>\n",
              "      <th>EulerX</th>\n",
              "      <th>EulerY</th>\n",
              "      <th>EulerZ</th>\n",
              "      <th>Task ID</th>\n",
              "      <th>Trial ID</th>\n",
              "      <th>Description</th>\n",
              "    </tr>\n",
              "  </thead>\n",
              "  <tbody>\n",
              "    <tr>\n",
              "      <th>0</th>\n",
              "      <td>-0.043</td>\n",
              "      <td>-0.729</td>\n",
              "      <td>-0.159</td>\n",
              "      <td>25.439335</td>\n",
              "      <td>0.401071</td>\n",
              "      <td>-0.802141</td>\n",
              "      <td>19.033665</td>\n",
              "      <td>-12.163898</td>\n",
              "      <td>51.995939</td>\n",
              "      <td>20</td>\n",
              "      <td>1</td>\n",
              "      <td>Forward fall when trying to sit down</td>\n",
              "    </tr>\n",
              "    <tr>\n",
              "      <th>1</th>\n",
              "      <td>-0.043</td>\n",
              "      <td>-0.719</td>\n",
              "      <td>-0.142</td>\n",
              "      <td>27.731167</td>\n",
              "      <td>0.171887</td>\n",
              "      <td>-1.718874</td>\n",
              "      <td>19.314414</td>\n",
              "      <td>-12.152439</td>\n",
              "      <td>51.978750</td>\n",
              "      <td>20</td>\n",
              "      <td>1</td>\n",
              "      <td>Forward fall when trying to sit down</td>\n",
              "    </tr>\n",
              "    <tr>\n",
              "      <th>2</th>\n",
              "      <td>-0.042</td>\n",
              "      <td>-0.709</td>\n",
              "      <td>-0.136</td>\n",
              "      <td>29.965703</td>\n",
              "      <td>2.750198</td>\n",
              "      <td>-2.005353</td>\n",
              "      <td>19.623811</td>\n",
              "      <td>-12.118062</td>\n",
              "      <td>51.967291</td>\n",
              "      <td>20</td>\n",
              "      <td>1</td>\n",
              "      <td>Forward fall when trying to sit down</td>\n",
              "    </tr>\n",
              "    <tr>\n",
              "      <th>3</th>\n",
              "      <td>-0.049</td>\n",
              "      <td>-0.711</td>\n",
              "      <td>-0.157</td>\n",
              "      <td>31.971056</td>\n",
              "      <td>2.750198</td>\n",
              "      <td>-0.974029</td>\n",
              "      <td>19.944668</td>\n",
              "      <td>-12.083684</td>\n",
              "      <td>51.967291</td>\n",
              "      <td>20</td>\n",
              "      <td>1</td>\n",
              "      <td>Forward fall when trying to sit down</td>\n",
              "    </tr>\n",
              "    <tr>\n",
              "      <th>4</th>\n",
              "      <td>-0.062</td>\n",
              "      <td>-0.726</td>\n",
              "      <td>-0.151</td>\n",
              "      <td>33.575339</td>\n",
              "      <td>2.005353</td>\n",
              "      <td>0.401071</td>\n",
              "      <td>20.282713</td>\n",
              "      <td>-12.060766</td>\n",
              "      <td>51.978750</td>\n",
              "      <td>20</td>\n",
              "      <td>1</td>\n",
              "      <td>Forward fall when trying to sit down</td>\n",
              "    </tr>\n",
              "    <tr>\n",
              "      <th>...</th>\n",
              "      <td>...</td>\n",
              "      <td>...</td>\n",
              "      <td>...</td>\n",
              "      <td>...</td>\n",
              "      <td>...</td>\n",
              "      <td>...</td>\n",
              "      <td>...</td>\n",
              "      <td>...</td>\n",
              "      <td>...</td>\n",
              "      <td>...</td>\n",
              "      <td>...</td>\n",
              "      <td>...</td>\n",
              "    </tr>\n",
              "    <tr>\n",
              "      <th>5114</th>\n",
              "      <td>0.226</td>\n",
              "      <td>-1.197</td>\n",
              "      <td>0.853</td>\n",
              "      <td>195.837044</td>\n",
              "      <td>12.146710</td>\n",
              "      <td>-51.909995</td>\n",
              "      <td>119.897191</td>\n",
              "      <td>9.310567</td>\n",
              "      <td>-56.373338</td>\n",
              "      <td>34</td>\n",
              "      <td>5</td>\n",
              "      <td>Backward fall while walking caused by a slip</td>\n",
              "    </tr>\n",
              "    <tr>\n",
              "      <th>5115</th>\n",
              "      <td>0.272</td>\n",
              "      <td>-1.602</td>\n",
              "      <td>1.089</td>\n",
              "      <td>208.384825</td>\n",
              "      <td>19.251389</td>\n",
              "      <td>-48.472247</td>\n",
              "      <td>122.085891</td>\n",
              "      <td>9.619965</td>\n",
              "      <td>-55.926430</td>\n",
              "      <td>34</td>\n",
              "      <td>5</td>\n",
              "      <td>Backward fall while walking caused by a slip</td>\n",
              "    </tr>\n",
              "    <tr>\n",
              "      <th>5116</th>\n",
              "      <td>0.369</td>\n",
              "      <td>-2.180</td>\n",
              "      <td>1.328</td>\n",
              "      <td>209.817220</td>\n",
              "      <td>29.335450</td>\n",
              "      <td>-30.939732</td>\n",
              "      <td>124.286049</td>\n",
              "      <td>9.711638</td>\n",
              "      <td>-55.485253</td>\n",
              "      <td>34</td>\n",
              "      <td>5</td>\n",
              "      <td>Backward fall while walking caused by a slip</td>\n",
              "    </tr>\n",
              "    <tr>\n",
              "      <th>5117</th>\n",
              "      <td>0.420</td>\n",
              "      <td>-3.004</td>\n",
              "      <td>1.636</td>\n",
              "      <td>226.891368</td>\n",
              "      <td>39.820581</td>\n",
              "      <td>1.145916</td>\n",
              "      <td>126.640907</td>\n",
              "      <td>9.465266</td>\n",
              "      <td>-55.141478</td>\n",
              "      <td>34</td>\n",
              "      <td>5</td>\n",
              "      <td>Backward fall while walking caused by a slip</td>\n",
              "    </tr>\n",
              "    <tr>\n",
              "      <th>5118</th>\n",
              "      <td>0.241</td>\n",
              "      <td>-3.905</td>\n",
              "      <td>2.562</td>\n",
              "      <td>257.143550</td>\n",
              "      <td>53.858052</td>\n",
              "      <td>44.346949</td>\n",
              "      <td>129.270784</td>\n",
              "      <td>8.783446</td>\n",
              "      <td>-54.969591</td>\n",
              "      <td>34</td>\n",
              "      <td>5</td>\n",
              "      <td>Backward fall while walking caused by a slip</td>\n",
              "    </tr>\n",
              "  </tbody>\n",
              "</table>\n",
              "<p>5119 rows × 12 columns</p>\n",
              "</div>\n",
              "      <button class=\"colab-df-convert\" onclick=\"convertToInteractive('df-3fa19670-f32a-4be4-9d51-11003db7d2d4')\"\n",
              "              title=\"Convert this dataframe to an interactive table.\"\n",
              "              style=\"display:none;\">\n",
              "        \n",
              "  <svg xmlns=\"http://www.w3.org/2000/svg\" height=\"24px\"viewBox=\"0 0 24 24\"\n",
              "       width=\"24px\">\n",
              "    <path d=\"M0 0h24v24H0V0z\" fill=\"none\"/>\n",
              "    <path d=\"M18.56 5.44l.94 2.06.94-2.06 2.06-.94-2.06-.94-.94-2.06-.94 2.06-2.06.94zm-11 1L8.5 8.5l.94-2.06 2.06-.94-2.06-.94L8.5 2.5l-.94 2.06-2.06.94zm10 10l.94 2.06.94-2.06 2.06-.94-2.06-.94-.94-2.06-.94 2.06-2.06.94z\"/><path d=\"M17.41 7.96l-1.37-1.37c-.4-.4-.92-.59-1.43-.59-.52 0-1.04.2-1.43.59L10.3 9.45l-7.72 7.72c-.78.78-.78 2.05 0 2.83L4 21.41c.39.39.9.59 1.41.59.51 0 1.02-.2 1.41-.59l7.78-7.78 2.81-2.81c.8-.78.8-2.07 0-2.86zM5.41 20L4 18.59l7.72-7.72 1.47 1.35L5.41 20z\"/>\n",
              "  </svg>\n",
              "      </button>\n",
              "      \n",
              "  <style>\n",
              "    .colab-df-container {\n",
              "      display:flex;\n",
              "      flex-wrap:wrap;\n",
              "      gap: 12px;\n",
              "    }\n",
              "\n",
              "    .colab-df-convert {\n",
              "      background-color: #E8F0FE;\n",
              "      border: none;\n",
              "      border-radius: 50%;\n",
              "      cursor: pointer;\n",
              "      display: none;\n",
              "      fill: #1967D2;\n",
              "      height: 32px;\n",
              "      padding: 0 0 0 0;\n",
              "      width: 32px;\n",
              "    }\n",
              "\n",
              "    .colab-df-convert:hover {\n",
              "      background-color: #E2EBFA;\n",
              "      box-shadow: 0px 1px 2px rgba(60, 64, 67, 0.3), 0px 1px 3px 1px rgba(60, 64, 67, 0.15);\n",
              "      fill: #174EA6;\n",
              "    }\n",
              "\n",
              "    [theme=dark] .colab-df-convert {\n",
              "      background-color: #3B4455;\n",
              "      fill: #D2E3FC;\n",
              "    }\n",
              "\n",
              "    [theme=dark] .colab-df-convert:hover {\n",
              "      background-color: #434B5C;\n",
              "      box-shadow: 0px 1px 3px 1px rgba(0, 0, 0, 0.15);\n",
              "      filter: drop-shadow(0px 1px 2px rgba(0, 0, 0, 0.3));\n",
              "      fill: #FFFFFF;\n",
              "    }\n",
              "  </style>\n",
              "\n",
              "      <script>\n",
              "        const buttonEl =\n",
              "          document.querySelector('#df-3fa19670-f32a-4be4-9d51-11003db7d2d4 button.colab-df-convert');\n",
              "        buttonEl.style.display =\n",
              "          google.colab.kernel.accessAllowed ? 'block' : 'none';\n",
              "\n",
              "        async function convertToInteractive(key) {\n",
              "          const element = document.querySelector('#df-3fa19670-f32a-4be4-9d51-11003db7d2d4');\n",
              "          const dataTable =\n",
              "            await google.colab.kernel.invokeFunction('convertToInteractive',\n",
              "                                                     [key], {});\n",
              "          if (!dataTable) return;\n",
              "\n",
              "          const docLinkHtml = 'Like what you see? Visit the ' +\n",
              "            '<a target=\"_blank\" href=https://colab.research.google.com/notebooks/data_table.ipynb>data table notebook</a>'\n",
              "            + ' to learn more about interactive tables.';\n",
              "          element.innerHTML = '';\n",
              "          dataTable['output_type'] = 'display_data';\n",
              "          await google.colab.output.renderOutput(dataTable, element);\n",
              "          const docLink = document.createElement('div');\n",
              "          docLink.innerHTML = docLinkHtml;\n",
              "          element.appendChild(docLink);\n",
              "        }\n",
              "      </script>\n",
              "    </div>\n",
              "  </div>\n",
              "  "
            ],
            "text/plain": [
              "       AccX   AccY  ...  Trial ID                                   Description\n",
              "0    -0.043 -0.729  ...         1          Forward fall when trying to sit down\n",
              "1    -0.043 -0.719  ...         1          Forward fall when trying to sit down\n",
              "2    -0.042 -0.709  ...         1          Forward fall when trying to sit down\n",
              "3    -0.049 -0.711  ...         1          Forward fall when trying to sit down\n",
              "4    -0.062 -0.726  ...         1          Forward fall when trying to sit down\n",
              "...     ...    ...  ...       ...                                           ...\n",
              "5114  0.226 -1.197  ...         5  Backward fall while walking caused by a slip\n",
              "5115  0.272 -1.602  ...         5  Backward fall while walking caused by a slip\n",
              "5116  0.369 -2.180  ...         5  Backward fall while walking caused by a slip\n",
              "5117  0.420 -3.004  ...         5  Backward fall while walking caused by a slip\n",
              "5118  0.241 -3.905  ...         5  Backward fall while walking caused by a slip\n",
              "\n",
              "[5119 rows x 12 columns]"
            ]
          },
          "metadata": {},
          "execution_count": 343
        }
      ]
    },
    {
      "cell_type": "code",
      "source": [
        "data.shape"
      ],
      "metadata": {
        "colab": {
          "base_uri": "https://localhost:8080/"
        },
        "id": "JxWGFvgV76sz",
        "outputId": "2bb0b841-2ac2-48e6-f7fe-f002596d811a"
      },
      "execution_count": null,
      "outputs": [
        {
          "output_type": "execute_result",
          "data": {
            "text/plain": [
              "(5119, 12)"
            ]
          },
          "metadata": {},
          "execution_count": 344
        }
      ]
    },
    {
      "cell_type": "code",
      "source": [
        "data.info()"
      ],
      "metadata": {
        "colab": {
          "base_uri": "https://localhost:8080/"
        },
        "id": "LARPnHXI7-nk",
        "outputId": "c4d248eb-d98a-4ff5-f9b2-7009769fab65"
      },
      "execution_count": null,
      "outputs": [
        {
          "output_type": "stream",
          "name": "stdout",
          "text": [
            "<class 'pandas.core.frame.DataFrame'>\n",
            "RangeIndex: 5119 entries, 0 to 5118\n",
            "Data columns (total 12 columns):\n",
            " #   Column       Non-Null Count  Dtype  \n",
            "---  ------       --------------  -----  \n",
            " 0   AccX         5119 non-null   float64\n",
            " 1   AccY         5119 non-null   float64\n",
            " 2   AccZ         5119 non-null   float64\n",
            " 3   GyrX         5119 non-null   float64\n",
            " 4   GyrY         5119 non-null   float64\n",
            " 5   GyrZ         5119 non-null   float64\n",
            " 6   EulerX       5119 non-null   float64\n",
            " 7   EulerY       5119 non-null   float64\n",
            " 8   EulerZ       5119 non-null   float64\n",
            " 9   Task ID      5119 non-null   int64  \n",
            " 10  Trial ID     5119 non-null   int64  \n",
            " 11  Description  5119 non-null   object \n",
            "dtypes: float64(9), int64(2), object(1)\n",
            "memory usage: 480.0+ KB\n"
          ]
        }
      ]
    },
    {
      "cell_type": "code",
      "source": [
        "data.describe()"
      ],
      "metadata": {
        "colab": {
          "base_uri": "https://localhost:8080/",
          "height": 300
        },
        "id": "Q_zgC-eK8Arg",
        "outputId": "b8a42550-609f-41cd-a6f1-7f0d0d23402f"
      },
      "execution_count": null,
      "outputs": [
        {
          "output_type": "execute_result",
          "data": {
            "text/html": [
              "\n",
              "  <div id=\"df-e09b9625-1ef7-4cde-9efc-26753dc58070\">\n",
              "    <div class=\"colab-df-container\">\n",
              "      <div>\n",
              "<style scoped>\n",
              "    .dataframe tbody tr th:only-of-type {\n",
              "        vertical-align: middle;\n",
              "    }\n",
              "\n",
              "    .dataframe tbody tr th {\n",
              "        vertical-align: top;\n",
              "    }\n",
              "\n",
              "    .dataframe thead th {\n",
              "        text-align: right;\n",
              "    }\n",
              "</style>\n",
              "<table border=\"1\" class=\"dataframe\">\n",
              "  <thead>\n",
              "    <tr style=\"text-align: right;\">\n",
              "      <th></th>\n",
              "      <th>AccX</th>\n",
              "      <th>AccY</th>\n",
              "      <th>AccZ</th>\n",
              "      <th>GyrX</th>\n",
              "      <th>GyrY</th>\n",
              "      <th>GyrZ</th>\n",
              "      <th>EulerX</th>\n",
              "      <th>EulerY</th>\n",
              "      <th>EulerZ</th>\n",
              "      <th>Task ID</th>\n",
              "      <th>Trial ID</th>\n",
              "    </tr>\n",
              "  </thead>\n",
              "  <tbody>\n",
              "    <tr>\n",
              "      <th>count</th>\n",
              "      <td>5119.000000</td>\n",
              "      <td>5119.000000</td>\n",
              "      <td>5119.000000</td>\n",
              "      <td>5119.000000</td>\n",
              "      <td>5119.000000</td>\n",
              "      <td>5119.000000</td>\n",
              "      <td>5119.000000</td>\n",
              "      <td>5119.000000</td>\n",
              "      <td>5119.000000</td>\n",
              "      <td>5119.000000</td>\n",
              "      <td>5119.000000</td>\n",
              "    </tr>\n",
              "    <tr>\n",
              "      <th>mean</th>\n",
              "      <td>0.132933</td>\n",
              "      <td>-0.563291</td>\n",
              "      <td>-0.258202</td>\n",
              "      <td>-40.872713</td>\n",
              "      <td>28.289485</td>\n",
              "      <td>-22.273605</td>\n",
              "      <td>57.056081</td>\n",
              "      <td>8.253884</td>\n",
              "      <td>-12.454372</td>\n",
              "      <td>26.890604</td>\n",
              "      <td>3.010354</td>\n",
              "    </tr>\n",
              "    <tr>\n",
              "      <th>std</th>\n",
              "      <td>0.614557</td>\n",
              "      <td>0.744524</td>\n",
              "      <td>0.705707</td>\n",
              "      <td>105.493893</td>\n",
              "      <td>90.022572</td>\n",
              "      <td>56.616026</td>\n",
              "      <td>28.819712</td>\n",
              "      <td>16.283491</td>\n",
              "      <td>43.690957</td>\n",
              "      <td>4.197655</td>\n",
              "      <td>1.378706</td>\n",
              "    </tr>\n",
              "    <tr>\n",
              "      <th>min</th>\n",
              "      <td>-3.999000</td>\n",
              "      <td>-3.999000</td>\n",
              "      <td>-3.996000</td>\n",
              "      <td>-424.332695</td>\n",
              "      <td>-384.340226</td>\n",
              "      <td>-357.353905</td>\n",
              "      <td>-160.571479</td>\n",
              "      <td>-47.664376</td>\n",
              "      <td>-179.055105</td>\n",
              "      <td>20.000000</td>\n",
              "      <td>1.000000</td>\n",
              "    </tr>\n",
              "    <tr>\n",
              "      <th>25%</th>\n",
              "      <td>-0.049000</td>\n",
              "      <td>-0.868000</td>\n",
              "      <td>-0.436000</td>\n",
              "      <td>-98.348241</td>\n",
              "      <td>-10.657019</td>\n",
              "      <td>-33.632635</td>\n",
              "      <td>45.469947</td>\n",
              "      <td>-0.197671</td>\n",
              "      <td>-30.722008</td>\n",
              "      <td>23.000000</td>\n",
              "      <td>2.000000</td>\n",
              "    </tr>\n",
              "    <tr>\n",
              "      <th>50%</th>\n",
              "      <td>0.028000</td>\n",
              "      <td>-0.707000</td>\n",
              "      <td>-0.205000</td>\n",
              "      <td>-27.100913</td>\n",
              "      <td>16.386599</td>\n",
              "      <td>-7.104679</td>\n",
              "      <td>61.071593</td>\n",
              "      <td>3.500773</td>\n",
              "      <td>-20.729620</td>\n",
              "      <td>27.000000</td>\n",
              "      <td>3.000000</td>\n",
              "    </tr>\n",
              "    <tr>\n",
              "      <th>75%</th>\n",
              "      <td>0.134000</td>\n",
              "      <td>-0.318000</td>\n",
              "      <td>0.029000</td>\n",
              "      <td>6.990088</td>\n",
              "      <td>76.289358</td>\n",
              "      <td>6.760904</td>\n",
              "      <td>74.083469</td>\n",
              "      <td>13.513214</td>\n",
              "      <td>9.872066</td>\n",
              "      <td>30.000000</td>\n",
              "      <td>4.000000</td>\n",
              "    </tr>\n",
              "    <tr>\n",
              "      <th>max</th>\n",
              "      <td>3.996000</td>\n",
              "      <td>3.791000</td>\n",
              "      <td>3.880000</td>\n",
              "      <td>451.834679</td>\n",
              "      <td>369.557910</td>\n",
              "      <td>262.758539</td>\n",
              "      <td>174.437063</td>\n",
              "      <td>88.413149</td>\n",
              "      <td>178.917595</td>\n",
              "      <td>34.000000</td>\n",
              "      <td>5.000000</td>\n",
              "    </tr>\n",
              "  </tbody>\n",
              "</table>\n",
              "</div>\n",
              "      <button class=\"colab-df-convert\" onclick=\"convertToInteractive('df-e09b9625-1ef7-4cde-9efc-26753dc58070')\"\n",
              "              title=\"Convert this dataframe to an interactive table.\"\n",
              "              style=\"display:none;\">\n",
              "        \n",
              "  <svg xmlns=\"http://www.w3.org/2000/svg\" height=\"24px\"viewBox=\"0 0 24 24\"\n",
              "       width=\"24px\">\n",
              "    <path d=\"M0 0h24v24H0V0z\" fill=\"none\"/>\n",
              "    <path d=\"M18.56 5.44l.94 2.06.94-2.06 2.06-.94-2.06-.94-.94-2.06-.94 2.06-2.06.94zm-11 1L8.5 8.5l.94-2.06 2.06-.94-2.06-.94L8.5 2.5l-.94 2.06-2.06.94zm10 10l.94 2.06.94-2.06 2.06-.94-2.06-.94-.94-2.06-.94 2.06-2.06.94z\"/><path d=\"M17.41 7.96l-1.37-1.37c-.4-.4-.92-.59-1.43-.59-.52 0-1.04.2-1.43.59L10.3 9.45l-7.72 7.72c-.78.78-.78 2.05 0 2.83L4 21.41c.39.39.9.59 1.41.59.51 0 1.02-.2 1.41-.59l7.78-7.78 2.81-2.81c.8-.78.8-2.07 0-2.86zM5.41 20L4 18.59l7.72-7.72 1.47 1.35L5.41 20z\"/>\n",
              "  </svg>\n",
              "      </button>\n",
              "      \n",
              "  <style>\n",
              "    .colab-df-container {\n",
              "      display:flex;\n",
              "      flex-wrap:wrap;\n",
              "      gap: 12px;\n",
              "    }\n",
              "\n",
              "    .colab-df-convert {\n",
              "      background-color: #E8F0FE;\n",
              "      border: none;\n",
              "      border-radius: 50%;\n",
              "      cursor: pointer;\n",
              "      display: none;\n",
              "      fill: #1967D2;\n",
              "      height: 32px;\n",
              "      padding: 0 0 0 0;\n",
              "      width: 32px;\n",
              "    }\n",
              "\n",
              "    .colab-df-convert:hover {\n",
              "      background-color: #E2EBFA;\n",
              "      box-shadow: 0px 1px 2px rgba(60, 64, 67, 0.3), 0px 1px 3px 1px rgba(60, 64, 67, 0.15);\n",
              "      fill: #174EA6;\n",
              "    }\n",
              "\n",
              "    [theme=dark] .colab-df-convert {\n",
              "      background-color: #3B4455;\n",
              "      fill: #D2E3FC;\n",
              "    }\n",
              "\n",
              "    [theme=dark] .colab-df-convert:hover {\n",
              "      background-color: #434B5C;\n",
              "      box-shadow: 0px 1px 3px 1px rgba(0, 0, 0, 0.15);\n",
              "      filter: drop-shadow(0px 1px 2px rgba(0, 0, 0, 0.3));\n",
              "      fill: #FFFFFF;\n",
              "    }\n",
              "  </style>\n",
              "\n",
              "      <script>\n",
              "        const buttonEl =\n",
              "          document.querySelector('#df-e09b9625-1ef7-4cde-9efc-26753dc58070 button.colab-df-convert');\n",
              "        buttonEl.style.display =\n",
              "          google.colab.kernel.accessAllowed ? 'block' : 'none';\n",
              "\n",
              "        async function convertToInteractive(key) {\n",
              "          const element = document.querySelector('#df-e09b9625-1ef7-4cde-9efc-26753dc58070');\n",
              "          const dataTable =\n",
              "            await google.colab.kernel.invokeFunction('convertToInteractive',\n",
              "                                                     [key], {});\n",
              "          if (!dataTable) return;\n",
              "\n",
              "          const docLinkHtml = 'Like what you see? Visit the ' +\n",
              "            '<a target=\"_blank\" href=https://colab.research.google.com/notebooks/data_table.ipynb>data table notebook</a>'\n",
              "            + ' to learn more about interactive tables.';\n",
              "          element.innerHTML = '';\n",
              "          dataTable['output_type'] = 'display_data';\n",
              "          await google.colab.output.renderOutput(dataTable, element);\n",
              "          const docLink = document.createElement('div');\n",
              "          docLink.innerHTML = docLinkHtml;\n",
              "          element.appendChild(docLink);\n",
              "        }\n",
              "      </script>\n",
              "    </div>\n",
              "  </div>\n",
              "  "
            ],
            "text/plain": [
              "              AccX         AccY  ...      Task ID     Trial ID\n",
              "count  5119.000000  5119.000000  ...  5119.000000  5119.000000\n",
              "mean      0.132933    -0.563291  ...    26.890604     3.010354\n",
              "std       0.614557     0.744524  ...     4.197655     1.378706\n",
              "min      -3.999000    -3.999000  ...    20.000000     1.000000\n",
              "25%      -0.049000    -0.868000  ...    23.000000     2.000000\n",
              "50%       0.028000    -0.707000  ...    27.000000     3.000000\n",
              "75%       0.134000    -0.318000  ...    30.000000     4.000000\n",
              "max       3.996000     3.791000  ...    34.000000     5.000000\n",
              "\n",
              "[8 rows x 11 columns]"
            ]
          },
          "metadata": {},
          "execution_count": 346
        }
      ]
    },
    {
      "cell_type": "code",
      "source": [
        "data.isnull()"
      ],
      "metadata": {
        "colab": {
          "base_uri": "https://localhost:8080/",
          "height": 424
        },
        "id": "AWhQxzYT8Fti",
        "outputId": "ef52402a-be2d-4b1a-8b41-daaa3d95ee69"
      },
      "execution_count": null,
      "outputs": [
        {
          "output_type": "execute_result",
          "data": {
            "text/html": [
              "\n",
              "  <div id=\"df-9c0f40cc-e661-4a06-82c0-49bb834e1e9f\">\n",
              "    <div class=\"colab-df-container\">\n",
              "      <div>\n",
              "<style scoped>\n",
              "    .dataframe tbody tr th:only-of-type {\n",
              "        vertical-align: middle;\n",
              "    }\n",
              "\n",
              "    .dataframe tbody tr th {\n",
              "        vertical-align: top;\n",
              "    }\n",
              "\n",
              "    .dataframe thead th {\n",
              "        text-align: right;\n",
              "    }\n",
              "</style>\n",
              "<table border=\"1\" class=\"dataframe\">\n",
              "  <thead>\n",
              "    <tr style=\"text-align: right;\">\n",
              "      <th></th>\n",
              "      <th>AccX</th>\n",
              "      <th>AccY</th>\n",
              "      <th>AccZ</th>\n",
              "      <th>GyrX</th>\n",
              "      <th>GyrY</th>\n",
              "      <th>GyrZ</th>\n",
              "      <th>EulerX</th>\n",
              "      <th>EulerY</th>\n",
              "      <th>EulerZ</th>\n",
              "      <th>Task ID</th>\n",
              "      <th>Trial ID</th>\n",
              "      <th>Description</th>\n",
              "    </tr>\n",
              "  </thead>\n",
              "  <tbody>\n",
              "    <tr>\n",
              "      <th>0</th>\n",
              "      <td>False</td>\n",
              "      <td>False</td>\n",
              "      <td>False</td>\n",
              "      <td>False</td>\n",
              "      <td>False</td>\n",
              "      <td>False</td>\n",
              "      <td>False</td>\n",
              "      <td>False</td>\n",
              "      <td>False</td>\n",
              "      <td>False</td>\n",
              "      <td>False</td>\n",
              "      <td>False</td>\n",
              "    </tr>\n",
              "    <tr>\n",
              "      <th>1</th>\n",
              "      <td>False</td>\n",
              "      <td>False</td>\n",
              "      <td>False</td>\n",
              "      <td>False</td>\n",
              "      <td>False</td>\n",
              "      <td>False</td>\n",
              "      <td>False</td>\n",
              "      <td>False</td>\n",
              "      <td>False</td>\n",
              "      <td>False</td>\n",
              "      <td>False</td>\n",
              "      <td>False</td>\n",
              "    </tr>\n",
              "    <tr>\n",
              "      <th>2</th>\n",
              "      <td>False</td>\n",
              "      <td>False</td>\n",
              "      <td>False</td>\n",
              "      <td>False</td>\n",
              "      <td>False</td>\n",
              "      <td>False</td>\n",
              "      <td>False</td>\n",
              "      <td>False</td>\n",
              "      <td>False</td>\n",
              "      <td>False</td>\n",
              "      <td>False</td>\n",
              "      <td>False</td>\n",
              "    </tr>\n",
              "    <tr>\n",
              "      <th>3</th>\n",
              "      <td>False</td>\n",
              "      <td>False</td>\n",
              "      <td>False</td>\n",
              "      <td>False</td>\n",
              "      <td>False</td>\n",
              "      <td>False</td>\n",
              "      <td>False</td>\n",
              "      <td>False</td>\n",
              "      <td>False</td>\n",
              "      <td>False</td>\n",
              "      <td>False</td>\n",
              "      <td>False</td>\n",
              "    </tr>\n",
              "    <tr>\n",
              "      <th>4</th>\n",
              "      <td>False</td>\n",
              "      <td>False</td>\n",
              "      <td>False</td>\n",
              "      <td>False</td>\n",
              "      <td>False</td>\n",
              "      <td>False</td>\n",
              "      <td>False</td>\n",
              "      <td>False</td>\n",
              "      <td>False</td>\n",
              "      <td>False</td>\n",
              "      <td>False</td>\n",
              "      <td>False</td>\n",
              "    </tr>\n",
              "    <tr>\n",
              "      <th>...</th>\n",
              "      <td>...</td>\n",
              "      <td>...</td>\n",
              "      <td>...</td>\n",
              "      <td>...</td>\n",
              "      <td>...</td>\n",
              "      <td>...</td>\n",
              "      <td>...</td>\n",
              "      <td>...</td>\n",
              "      <td>...</td>\n",
              "      <td>...</td>\n",
              "      <td>...</td>\n",
              "      <td>...</td>\n",
              "    </tr>\n",
              "    <tr>\n",
              "      <th>5114</th>\n",
              "      <td>False</td>\n",
              "      <td>False</td>\n",
              "      <td>False</td>\n",
              "      <td>False</td>\n",
              "      <td>False</td>\n",
              "      <td>False</td>\n",
              "      <td>False</td>\n",
              "      <td>False</td>\n",
              "      <td>False</td>\n",
              "      <td>False</td>\n",
              "      <td>False</td>\n",
              "      <td>False</td>\n",
              "    </tr>\n",
              "    <tr>\n",
              "      <th>5115</th>\n",
              "      <td>False</td>\n",
              "      <td>False</td>\n",
              "      <td>False</td>\n",
              "      <td>False</td>\n",
              "      <td>False</td>\n",
              "      <td>False</td>\n",
              "      <td>False</td>\n",
              "      <td>False</td>\n",
              "      <td>False</td>\n",
              "      <td>False</td>\n",
              "      <td>False</td>\n",
              "      <td>False</td>\n",
              "    </tr>\n",
              "    <tr>\n",
              "      <th>5116</th>\n",
              "      <td>False</td>\n",
              "      <td>False</td>\n",
              "      <td>False</td>\n",
              "      <td>False</td>\n",
              "      <td>False</td>\n",
              "      <td>False</td>\n",
              "      <td>False</td>\n",
              "      <td>False</td>\n",
              "      <td>False</td>\n",
              "      <td>False</td>\n",
              "      <td>False</td>\n",
              "      <td>False</td>\n",
              "    </tr>\n",
              "    <tr>\n",
              "      <th>5117</th>\n",
              "      <td>False</td>\n",
              "      <td>False</td>\n",
              "      <td>False</td>\n",
              "      <td>False</td>\n",
              "      <td>False</td>\n",
              "      <td>False</td>\n",
              "      <td>False</td>\n",
              "      <td>False</td>\n",
              "      <td>False</td>\n",
              "      <td>False</td>\n",
              "      <td>False</td>\n",
              "      <td>False</td>\n",
              "    </tr>\n",
              "    <tr>\n",
              "      <th>5118</th>\n",
              "      <td>False</td>\n",
              "      <td>False</td>\n",
              "      <td>False</td>\n",
              "      <td>False</td>\n",
              "      <td>False</td>\n",
              "      <td>False</td>\n",
              "      <td>False</td>\n",
              "      <td>False</td>\n",
              "      <td>False</td>\n",
              "      <td>False</td>\n",
              "      <td>False</td>\n",
              "      <td>False</td>\n",
              "    </tr>\n",
              "  </tbody>\n",
              "</table>\n",
              "<p>5119 rows × 12 columns</p>\n",
              "</div>\n",
              "      <button class=\"colab-df-convert\" onclick=\"convertToInteractive('df-9c0f40cc-e661-4a06-82c0-49bb834e1e9f')\"\n",
              "              title=\"Convert this dataframe to an interactive table.\"\n",
              "              style=\"display:none;\">\n",
              "        \n",
              "  <svg xmlns=\"http://www.w3.org/2000/svg\" height=\"24px\"viewBox=\"0 0 24 24\"\n",
              "       width=\"24px\">\n",
              "    <path d=\"M0 0h24v24H0V0z\" fill=\"none\"/>\n",
              "    <path d=\"M18.56 5.44l.94 2.06.94-2.06 2.06-.94-2.06-.94-.94-2.06-.94 2.06-2.06.94zm-11 1L8.5 8.5l.94-2.06 2.06-.94-2.06-.94L8.5 2.5l-.94 2.06-2.06.94zm10 10l.94 2.06.94-2.06 2.06-.94-2.06-.94-.94-2.06-.94 2.06-2.06.94z\"/><path d=\"M17.41 7.96l-1.37-1.37c-.4-.4-.92-.59-1.43-.59-.52 0-1.04.2-1.43.59L10.3 9.45l-7.72 7.72c-.78.78-.78 2.05 0 2.83L4 21.41c.39.39.9.59 1.41.59.51 0 1.02-.2 1.41-.59l7.78-7.78 2.81-2.81c.8-.78.8-2.07 0-2.86zM5.41 20L4 18.59l7.72-7.72 1.47 1.35L5.41 20z\"/>\n",
              "  </svg>\n",
              "      </button>\n",
              "      \n",
              "  <style>\n",
              "    .colab-df-container {\n",
              "      display:flex;\n",
              "      flex-wrap:wrap;\n",
              "      gap: 12px;\n",
              "    }\n",
              "\n",
              "    .colab-df-convert {\n",
              "      background-color: #E8F0FE;\n",
              "      border: none;\n",
              "      border-radius: 50%;\n",
              "      cursor: pointer;\n",
              "      display: none;\n",
              "      fill: #1967D2;\n",
              "      height: 32px;\n",
              "      padding: 0 0 0 0;\n",
              "      width: 32px;\n",
              "    }\n",
              "\n",
              "    .colab-df-convert:hover {\n",
              "      background-color: #E2EBFA;\n",
              "      box-shadow: 0px 1px 2px rgba(60, 64, 67, 0.3), 0px 1px 3px 1px rgba(60, 64, 67, 0.15);\n",
              "      fill: #174EA6;\n",
              "    }\n",
              "\n",
              "    [theme=dark] .colab-df-convert {\n",
              "      background-color: #3B4455;\n",
              "      fill: #D2E3FC;\n",
              "    }\n",
              "\n",
              "    [theme=dark] .colab-df-convert:hover {\n",
              "      background-color: #434B5C;\n",
              "      box-shadow: 0px 1px 3px 1px rgba(0, 0, 0, 0.15);\n",
              "      filter: drop-shadow(0px 1px 2px rgba(0, 0, 0, 0.3));\n",
              "      fill: #FFFFFF;\n",
              "    }\n",
              "  </style>\n",
              "\n",
              "      <script>\n",
              "        const buttonEl =\n",
              "          document.querySelector('#df-9c0f40cc-e661-4a06-82c0-49bb834e1e9f button.colab-df-convert');\n",
              "        buttonEl.style.display =\n",
              "          google.colab.kernel.accessAllowed ? 'block' : 'none';\n",
              "\n",
              "        async function convertToInteractive(key) {\n",
              "          const element = document.querySelector('#df-9c0f40cc-e661-4a06-82c0-49bb834e1e9f');\n",
              "          const dataTable =\n",
              "            await google.colab.kernel.invokeFunction('convertToInteractive',\n",
              "                                                     [key], {});\n",
              "          if (!dataTable) return;\n",
              "\n",
              "          const docLinkHtml = 'Like what you see? Visit the ' +\n",
              "            '<a target=\"_blank\" href=https://colab.research.google.com/notebooks/data_table.ipynb>data table notebook</a>'\n",
              "            + ' to learn more about interactive tables.';\n",
              "          element.innerHTML = '';\n",
              "          dataTable['output_type'] = 'display_data';\n",
              "          await google.colab.output.renderOutput(dataTable, element);\n",
              "          const docLink = document.createElement('div');\n",
              "          docLink.innerHTML = docLinkHtml;\n",
              "          element.appendChild(docLink);\n",
              "        }\n",
              "      </script>\n",
              "    </div>\n",
              "  </div>\n",
              "  "
            ],
            "text/plain": [
              "       AccX   AccY   AccZ   GyrX  ...  EulerZ  Task ID  Trial ID  Description\n",
              "0     False  False  False  False  ...   False    False     False        False\n",
              "1     False  False  False  False  ...   False    False     False        False\n",
              "2     False  False  False  False  ...   False    False     False        False\n",
              "3     False  False  False  False  ...   False    False     False        False\n",
              "4     False  False  False  False  ...   False    False     False        False\n",
              "...     ...    ...    ...    ...  ...     ...      ...       ...          ...\n",
              "5114  False  False  False  False  ...   False    False     False        False\n",
              "5115  False  False  False  False  ...   False    False     False        False\n",
              "5116  False  False  False  False  ...   False    False     False        False\n",
              "5117  False  False  False  False  ...   False    False     False        False\n",
              "5118  False  False  False  False  ...   False    False     False        False\n",
              "\n",
              "[5119 rows x 12 columns]"
            ]
          },
          "metadata": {},
          "execution_count": 347
        }
      ]
    },
    {
      "cell_type": "code",
      "source": [
        "data.isnull().values.any()"
      ],
      "metadata": {
        "colab": {
          "base_uri": "https://localhost:8080/"
        },
        "id": "2YQqj_uYAcqI",
        "outputId": "cac9ffff-2f21-49ce-ce50-a32ec3e3f06c"
      },
      "execution_count": null,
      "outputs": [
        {
          "output_type": "execute_result",
          "data": {
            "text/plain": [
              "False"
            ]
          },
          "metadata": {},
          "execution_count": 348
        }
      ]
    },
    {
      "cell_type": "code",
      "source": [
        "data[\"Description\"].unique()"
      ],
      "metadata": {
        "colab": {
          "base_uri": "https://localhost:8080/"
        },
        "id": "Vi4DXvHmAk43",
        "outputId": "91992978-aa49-4d2a-8a6c-2cffcc628b36"
      },
      "execution_count": null,
      "outputs": [
        {
          "output_type": "execute_result",
          "data": {
            "text/plain": [
              "array(['Forward fall when trying to sit down',\n",
              "       'Backward fall when trying to sit down',\n",
              "       'lateral fall when trying to sit down',\n",
              "       'Forward fall when trying to get up',\n",
              "       'lateral fall when trying to get up',\n",
              "       'Forward fall while sitting, caused by fainting',\n",
              "       'lateral fall while sitting, caused by fainting',\n",
              "       'Backward fall while sitting, caused by fainting',\n",
              "       'Vertical(forward) fall while walking caused by fainting',\n",
              "       'Fall while walking, with use of hands in a table to dampen fall, caused by fainting',\n",
              "       'Forward fall while walking caused by a trip',\n",
              "       'Forward fall while jogging caused by a trip',\n",
              "       'Forward fall while walking caused by a slip',\n",
              "       'Forward lateral fall while walking caused by a slip',\n",
              "       'Backward fall while walking caused by a slip'], dtype=object)"
            ]
          },
          "metadata": {},
          "execution_count": 349
        }
      ]
    },
    {
      "cell_type": "code",
      "source": [
        "pd.crosstab(index = data[\"Description\"],columns=\"count\")"
      ],
      "metadata": {
        "colab": {
          "base_uri": "https://localhost:8080/",
          "height": 551
        },
        "id": "o3kC8USiAyur",
        "outputId": "ad0f55e0-447d-46ec-cc2b-8e36b76fd9d6"
      },
      "execution_count": null,
      "outputs": [
        {
          "output_type": "execute_result",
          "data": {
            "text/html": [
              "\n",
              "  <div id=\"df-b80ffded-0157-4f11-a0c0-40ab7ec7c6f1\">\n",
              "    <div class=\"colab-df-container\">\n",
              "      <div>\n",
              "<style scoped>\n",
              "    .dataframe tbody tr th:only-of-type {\n",
              "        vertical-align: middle;\n",
              "    }\n",
              "\n",
              "    .dataframe tbody tr th {\n",
              "        vertical-align: top;\n",
              "    }\n",
              "\n",
              "    .dataframe thead th {\n",
              "        text-align: right;\n",
              "    }\n",
              "</style>\n",
              "<table border=\"1\" class=\"dataframe\">\n",
              "  <thead>\n",
              "    <tr style=\"text-align: right;\">\n",
              "      <th>col_0</th>\n",
              "      <th>count</th>\n",
              "    </tr>\n",
              "    <tr>\n",
              "      <th>Description</th>\n",
              "      <th></th>\n",
              "    </tr>\n",
              "  </thead>\n",
              "  <tbody>\n",
              "    <tr>\n",
              "      <th>Backward fall when trying to sit down</th>\n",
              "      <td>159</td>\n",
              "    </tr>\n",
              "    <tr>\n",
              "      <th>Backward fall while sitting, caused by fainting</th>\n",
              "      <td>206</td>\n",
              "    </tr>\n",
              "    <tr>\n",
              "      <th>Backward fall while walking caused by a slip</th>\n",
              "      <td>328</td>\n",
              "    </tr>\n",
              "    <tr>\n",
              "      <th>Fall while walking, with use of hands in a table to dampen fall, caused by fainting</th>\n",
              "      <td>336</td>\n",
              "    </tr>\n",
              "    <tr>\n",
              "      <th>Forward fall when trying to get up</th>\n",
              "      <td>425</td>\n",
              "    </tr>\n",
              "    <tr>\n",
              "      <th>Forward fall when trying to sit down</th>\n",
              "      <td>420</td>\n",
              "    </tr>\n",
              "    <tr>\n",
              "      <th>Forward fall while jogging caused by a trip</th>\n",
              "      <td>357</td>\n",
              "    </tr>\n",
              "    <tr>\n",
              "      <th>Forward fall while sitting, caused by fainting</th>\n",
              "      <td>381</td>\n",
              "    </tr>\n",
              "    <tr>\n",
              "      <th>Forward fall while walking caused by a slip</th>\n",
              "      <td>316</td>\n",
              "    </tr>\n",
              "    <tr>\n",
              "      <th>Forward fall while walking caused by a trip</th>\n",
              "      <td>385</td>\n",
              "    </tr>\n",
              "    <tr>\n",
              "      <th>Forward lateral fall while walking caused by a slip</th>\n",
              "      <td>241</td>\n",
              "    </tr>\n",
              "    <tr>\n",
              "      <th>Vertical(forward) fall while walking caused by fainting</th>\n",
              "      <td>408</td>\n",
              "    </tr>\n",
              "    <tr>\n",
              "      <th>lateral fall when trying to get up</th>\n",
              "      <td>328</td>\n",
              "    </tr>\n",
              "    <tr>\n",
              "      <th>lateral fall when trying to sit down</th>\n",
              "      <td>344</td>\n",
              "    </tr>\n",
              "    <tr>\n",
              "      <th>lateral fall while sitting, caused by fainting</th>\n",
              "      <td>485</td>\n",
              "    </tr>\n",
              "  </tbody>\n",
              "</table>\n",
              "</div>\n",
              "      <button class=\"colab-df-convert\" onclick=\"convertToInteractive('df-b80ffded-0157-4f11-a0c0-40ab7ec7c6f1')\"\n",
              "              title=\"Convert this dataframe to an interactive table.\"\n",
              "              style=\"display:none;\">\n",
              "        \n",
              "  <svg xmlns=\"http://www.w3.org/2000/svg\" height=\"24px\"viewBox=\"0 0 24 24\"\n",
              "       width=\"24px\">\n",
              "    <path d=\"M0 0h24v24H0V0z\" fill=\"none\"/>\n",
              "    <path d=\"M18.56 5.44l.94 2.06.94-2.06 2.06-.94-2.06-.94-.94-2.06-.94 2.06-2.06.94zm-11 1L8.5 8.5l.94-2.06 2.06-.94-2.06-.94L8.5 2.5l-.94 2.06-2.06.94zm10 10l.94 2.06.94-2.06 2.06-.94-2.06-.94-.94-2.06-.94 2.06-2.06.94z\"/><path d=\"M17.41 7.96l-1.37-1.37c-.4-.4-.92-.59-1.43-.59-.52 0-1.04.2-1.43.59L10.3 9.45l-7.72 7.72c-.78.78-.78 2.05 0 2.83L4 21.41c.39.39.9.59 1.41.59.51 0 1.02-.2 1.41-.59l7.78-7.78 2.81-2.81c.8-.78.8-2.07 0-2.86zM5.41 20L4 18.59l7.72-7.72 1.47 1.35L5.41 20z\"/>\n",
              "  </svg>\n",
              "      </button>\n",
              "      \n",
              "  <style>\n",
              "    .colab-df-container {\n",
              "      display:flex;\n",
              "      flex-wrap:wrap;\n",
              "      gap: 12px;\n",
              "    }\n",
              "\n",
              "    .colab-df-convert {\n",
              "      background-color: #E8F0FE;\n",
              "      border: none;\n",
              "      border-radius: 50%;\n",
              "      cursor: pointer;\n",
              "      display: none;\n",
              "      fill: #1967D2;\n",
              "      height: 32px;\n",
              "      padding: 0 0 0 0;\n",
              "      width: 32px;\n",
              "    }\n",
              "\n",
              "    .colab-df-convert:hover {\n",
              "      background-color: #E2EBFA;\n",
              "      box-shadow: 0px 1px 2px rgba(60, 64, 67, 0.3), 0px 1px 3px 1px rgba(60, 64, 67, 0.15);\n",
              "      fill: #174EA6;\n",
              "    }\n",
              "\n",
              "    [theme=dark] .colab-df-convert {\n",
              "      background-color: #3B4455;\n",
              "      fill: #D2E3FC;\n",
              "    }\n",
              "\n",
              "    [theme=dark] .colab-df-convert:hover {\n",
              "      background-color: #434B5C;\n",
              "      box-shadow: 0px 1px 3px 1px rgba(0, 0, 0, 0.15);\n",
              "      filter: drop-shadow(0px 1px 2px rgba(0, 0, 0, 0.3));\n",
              "      fill: #FFFFFF;\n",
              "    }\n",
              "  </style>\n",
              "\n",
              "      <script>\n",
              "        const buttonEl =\n",
              "          document.querySelector('#df-b80ffded-0157-4f11-a0c0-40ab7ec7c6f1 button.colab-df-convert');\n",
              "        buttonEl.style.display =\n",
              "          google.colab.kernel.accessAllowed ? 'block' : 'none';\n",
              "\n",
              "        async function convertToInteractive(key) {\n",
              "          const element = document.querySelector('#df-b80ffded-0157-4f11-a0c0-40ab7ec7c6f1');\n",
              "          const dataTable =\n",
              "            await google.colab.kernel.invokeFunction('convertToInteractive',\n",
              "                                                     [key], {});\n",
              "          if (!dataTable) return;\n",
              "\n",
              "          const docLinkHtml = 'Like what you see? Visit the ' +\n",
              "            '<a target=\"_blank\" href=https://colab.research.google.com/notebooks/data_table.ipynb>data table notebook</a>'\n",
              "            + ' to learn more about interactive tables.';\n",
              "          element.innerHTML = '';\n",
              "          dataTable['output_type'] = 'display_data';\n",
              "          await google.colab.output.renderOutput(dataTable, element);\n",
              "          const docLink = document.createElement('div');\n",
              "          docLink.innerHTML = docLinkHtml;\n",
              "          element.appendChild(docLink);\n",
              "        }\n",
              "      </script>\n",
              "    </div>\n",
              "  </div>\n",
              "  "
            ],
            "text/plain": [
              "col_0                                               count\n",
              "Description                                              \n",
              "Backward fall when trying to sit down                 159\n",
              "Backward fall while sitting, caused by fainting       206\n",
              "Backward fall while walking caused by a slip          328\n",
              "Fall while walking, with use of hands in a tabl...    336\n",
              "Forward fall when trying to get up                    425\n",
              "Forward fall when trying to sit down                  420\n",
              "Forward fall while jogging caused by a trip           357\n",
              "Forward fall while sitting, caused by fainting        381\n",
              "Forward fall while walking caused by a slip           316\n",
              "Forward fall while walking caused by a trip           385\n",
              "Forward lateral fall while walking caused by a ...    241\n",
              "Vertical(forward) fall while walking caused by ...    408\n",
              "lateral fall when trying to get up                    328\n",
              "lateral fall when trying to sit down                  344\n",
              "lateral fall while sitting, caused by fainting        485"
            ]
          },
          "metadata": {},
          "execution_count": 350
        }
      ]
    },
    {
      "cell_type": "code",
      "source": [
        "plt.figure(figsize=(15,10))\n",
        "ax = sns.countplot(x=\"Description\", data=data)\n",
        "plt.xticks(x = data['Description'],  rotation='vertical')\n",
        "plt.show()"
      ],
      "metadata": {
        "colab": {
          "base_uri": "https://localhost:8080/",
          "height": 1000
        },
        "id": "KVOyGRj_A7Yj",
        "outputId": "1524dec1-1c38-4692-a3bb-f5d1512ad924"
      },
      "execution_count": null,
      "outputs": [
        {
          "output_type": "display_data",
          "data": {
            "image/png": "[encoded data removed]",
            "text/plain": [
              "<Figure size 1080x720 with 1 Axes>"
            ]
          },
          "metadata": {
            "needs_background": "light"
          }
        }
      ]
    },
    {
      "cell_type": "code",
      "source": [
        "data['Task ID'].unique()"
      ],
      "metadata": {
        "colab": {
          "base_uri": "https://localhost:8080/"
        },
        "id": "_rQLkkd8BLe6",
        "outputId": "fa8f11a9-3c88-418e-d42c-0b9e757d56d7"
      },
      "execution_count": null,
      "outputs": [
        {
          "output_type": "execute_result",
          "data": {
            "text/plain": [
              "array([20, 21, 22, 23, 24, 25, 26, 27, 28, 29, 30, 31, 32, 33, 34])"
            ]
          },
          "metadata": {},
          "execution_count": 352
        }
      ]
    },
    {
      "cell_type": "code",
      "source": [
        "plt.figure(figsize=(15,10))\n",
        "ax = sns.countplot(x=\"Task ID\", data=data)\n",
        "plt.xticks(x = data['Task ID'],  rotation='horizontal')\n",
        "plt.show()"
      ],
      "metadata": {
        "colab": {
          "base_uri": "https://localhost:8080/",
          "height": 606
        },
        "id": "awz7K_KfPk_u",
        "outputId": "4a35cb66-9bdb-4b70-e8c7-11a915ade744"
      },
      "execution_count": null,
      "outputs": [
        {
          "output_type": "display_data",
          "data": {
            "image/png": "[encoded data removed]",
            "text/plain": [
              "<Figure size 1080x720 with 1 Axes>"
            ]
          },
          "metadata": {
            "needs_background": "light"
          }
        }
      ]
    },
    {
      "cell_type": "code",
      "source": [
        "X = pd.DataFrame(data.drop(['Description','Task ID','Trial ID'],axis=1))\n",
        "Y = data.Description.values.astype(object)\n",
        "\n",
        "X.shape, Y.shape"
      ],
      "metadata": {
        "colab": {
          "base_uri": "https://localhost:8080/"
        },
        "id": "eTT6i-3iB18A",
        "outputId": "80d666bb-1cea-41b4-fdb2-cbd8980e36a7"
      },
      "execution_count": null,
      "outputs": [
        {
          "output_type": "execute_result",
          "data": {
            "text/plain": [
              "((5119, 9), (5119,))"
            ]
          },
          "metadata": {},
          "execution_count": 354
        }
      ]
    },
    {
      "cell_type": "code",
      "source": [
        "Y"
      ],
      "metadata": {
        "colab": {
          "base_uri": "https://localhost:8080/"
        },
        "id": "ZMeMK8M_h8sA",
        "outputId": "5639e00c-a7d9-4b6c-b9f6-59a9c1f98750"
      },
      "execution_count": null,
      "outputs": [
        {
          "output_type": "execute_result",
          "data": {
            "text/plain": [
              "array(['Forward fall when trying to sit down',\n",
              "       'Forward fall when trying to sit down',\n",
              "       'Forward fall when trying to sit down', ...,\n",
              "       'Backward fall while walking caused by a slip',\n",
              "       'Backward fall while walking caused by a slip',\n",
              "       'Backward fall while walking caused by a slip'], dtype=object)"
            ]
          },
          "metadata": {},
          "execution_count": 355
        }
      ]
    },
    {
      "cell_type": "code",
      "source": [
        "X.head()"
      ],
      "metadata": {
        "colab": {
          "base_uri": "https://localhost:8080/",
          "height": 206
        },
        "id": "NWygPqBfCLpr",
        "outputId": "5e215874-d1f6-4a41-cfd5-66fe075cd411"
      },
      "execution_count": null,
      "outputs": [
        {
          "output_type": "execute_result",
          "data": {
            "text/html": [
              "\n",
              "  <div id=\"df-774620fb-b720-4f0c-8f0d-9a1dd84e8638\">\n",
              "    <div class=\"colab-df-container\">\n",
              "      <div>\n",
              "<style scoped>\n",
              "    .dataframe tbody tr th:only-of-type {\n",
              "        vertical-align: middle;\n",
              "    }\n",
              "\n",
              "    .dataframe tbody tr th {\n",
              "        vertical-align: top;\n",
              "    }\n",
              "\n",
              "    .dataframe thead th {\n",
              "        text-align: right;\n",
              "    }\n",
              "</style>\n",
              "<table border=\"1\" class=\"dataframe\">\n",
              "  <thead>\n",
              "    <tr style=\"text-align: right;\">\n",
              "      <th></th>\n",
              "      <th>AccX</th>\n",
              "      <th>AccY</th>\n",
              "      <th>AccZ</th>\n",
              "      <th>GyrX</th>\n",
              "      <th>GyrY</th>\n",
              "      <th>GyrZ</th>\n",
              "      <th>EulerX</th>\n",
              "      <th>EulerY</th>\n",
              "      <th>EulerZ</th>\n",
              "    </tr>\n",
              "  </thead>\n",
              "  <tbody>\n",
              "    <tr>\n",
              "      <th>0</th>\n",
              "      <td>-0.043</td>\n",
              "      <td>-0.729</td>\n",
              "      <td>-0.159</td>\n",
              "      <td>25.439335</td>\n",
              "      <td>0.401071</td>\n",
              "      <td>-0.802141</td>\n",
              "      <td>19.033665</td>\n",
              "      <td>-12.163898</td>\n",
              "      <td>51.995939</td>\n",
              "    </tr>\n",
              "    <tr>\n",
              "      <th>1</th>\n",
              "      <td>-0.043</td>\n",
              "      <td>-0.719</td>\n",
              "      <td>-0.142</td>\n",
              "      <td>27.731167</td>\n",
              "      <td>0.171887</td>\n",
              "      <td>-1.718874</td>\n",
              "      <td>19.314414</td>\n",
              "      <td>-12.152439</td>\n",
              "      <td>51.978750</td>\n",
              "    </tr>\n",
              "    <tr>\n",
              "      <th>2</th>\n",
              "      <td>-0.042</td>\n",
              "      <td>-0.709</td>\n",
              "      <td>-0.136</td>\n",
              "      <td>29.965703</td>\n",
              "      <td>2.750198</td>\n",
              "      <td>-2.005353</td>\n",
              "      <td>19.623811</td>\n",
              "      <td>-12.118062</td>\n",
              "      <td>51.967291</td>\n",
              "    </tr>\n",
              "    <tr>\n",
              "      <th>3</th>\n",
              "      <td>-0.049</td>\n",
              "      <td>-0.711</td>\n",
              "      <td>-0.157</td>\n",
              "      <td>31.971056</td>\n",
              "      <td>2.750198</td>\n",
              "      <td>-0.974029</td>\n",
              "      <td>19.944668</td>\n",
              "      <td>-12.083684</td>\n",
              "      <td>51.967291</td>\n",
              "    </tr>\n",
              "    <tr>\n",
              "      <th>4</th>\n",
              "      <td>-0.062</td>\n",
              "      <td>-0.726</td>\n",
              "      <td>-0.151</td>\n",
              "      <td>33.575339</td>\n",
              "      <td>2.005353</td>\n",
              "      <td>0.401071</td>\n",
              "      <td>20.282713</td>\n",
              "      <td>-12.060766</td>\n",
              "      <td>51.978750</td>\n",
              "    </tr>\n",
              "  </tbody>\n",
              "</table>\n",
              "</div>\n",
              "      <button class=\"colab-df-convert\" onclick=\"convertToInteractive('df-774620fb-b720-4f0c-8f0d-9a1dd84e8638')\"\n",
              "              title=\"Convert this dataframe to an interactive table.\"\n",
              "              style=\"display:none;\">\n",
              "        \n",
              "  <svg xmlns=\"http://www.w3.org/2000/svg\" height=\"24px\"viewBox=\"0 0 24 24\"\n",
              "       width=\"24px\">\n",
              "    <path d=\"M0 0h24v24H0V0z\" fill=\"none\"/>\n",
              "    <path d=\"M18.56 5.44l.94 2.06.94-2.06 2.06-.94-2.06-.94-.94-2.06-.94 2.06-2.06.94zm-11 1L8.5 8.5l.94-2.06 2.06-.94-2.06-.94L8.5 2.5l-.94 2.06-2.06.94zm10 10l.94 2.06.94-2.06 2.06-.94-2.06-.94-.94-2.06-.94 2.06-2.06.94z\"/><path d=\"M17.41 7.96l-1.37-1.37c-.4-.4-.92-.59-1.43-.59-.52 0-1.04.2-1.43.59L10.3 9.45l-7.72 7.72c-.78.78-.78 2.05 0 2.83L4 21.41c.39.39.9.59 1.41.59.51 0 1.02-.2 1.41-.59l7.78-7.78 2.81-2.81c.8-.78.8-2.07 0-2.86zM5.41 20L4 18.59l7.72-7.72 1.47 1.35L5.41 20z\"/>\n",
              "  </svg>\n",
              "      </button>\n",
              "      \n",
              "  <style>\n",
              "    .colab-df-container {\n",
              "      display:flex;\n",
              "      flex-wrap:wrap;\n",
              "      gap: 12px;\n",
              "    }\n",
              "\n",
              "    .colab-df-convert {\n",
              "      background-color: #E8F0FE;\n",
              "      border: none;\n",
              "      border-radius: 50%;\n",
              "      cursor: pointer;\n",
              "      display: none;\n",
              "      fill: #1967D2;\n",
              "      height: 32px;\n",
              "      padding: 0 0 0 0;\n",
              "      width: 32px;\n",
              "    }\n",
              "\n",
              "    .colab-df-convert:hover {\n",
              "      background-color: #E2EBFA;\n",
              "      box-shadow: 0px 1px 2px rgba(60, 64, 67, 0.3), 0px 1px 3px 1px rgba(60, 64, 67, 0.15);\n",
              "      fill: #174EA6;\n",
              "    }\n",
              "\n",
              "    [theme=dark] .colab-df-convert {\n",
              "      background-color: #3B4455;\n",
              "      fill: #D2E3FC;\n",
              "    }\n",
              "\n",
              "    [theme=dark] .colab-df-convert:hover {\n",
              "      background-color: #434B5C;\n",
              "      box-shadow: 0px 1px 3px 1px rgba(0, 0, 0, 0.15);\n",
              "      filter: drop-shadow(0px 1px 2px rgba(0, 0, 0, 0.3));\n",
              "      fill: #FFFFFF;\n",
              "    }\n",
              "  </style>\n",
              "\n",
              "      <script>\n",
              "        const buttonEl =\n",
              "          document.querySelector('#df-774620fb-b720-4f0c-8f0d-9a1dd84e8638 button.colab-df-convert');\n",
              "        buttonEl.style.display =\n",
              "          google.colab.kernel.accessAllowed ? 'block' : 'none';\n",
              "\n",
              "        async function convertToInteractive(key) {\n",
              "          const element = document.querySelector('#df-774620fb-b720-4f0c-8f0d-9a1dd84e8638');\n",
              "          const dataTable =\n",
              "            await google.colab.kernel.invokeFunction('convertToInteractive',\n",
              "                                                     [key], {});\n",
              "          if (!dataTable) return;\n",
              "\n",
              "          const docLinkHtml = 'Like what you see? Visit the ' +\n",
              "            '<a target=\"_blank\" href=https://colab.research.google.com/notebooks/data_table.ipynb>data table notebook</a>'\n",
              "            + ' to learn more about interactive tables.';\n",
              "          element.innerHTML = '';\n",
              "          dataTable['output_type'] = 'display_data';\n",
              "          await google.colab.output.renderOutput(dataTable, element);\n",
              "          const docLink = document.createElement('div');\n",
              "          docLink.innerHTML = docLinkHtml;\n",
              "          element.appendChild(docLink);\n",
              "        }\n",
              "      </script>\n",
              "    </div>\n",
              "  </div>\n",
              "  "
            ],
            "text/plain": [
              "    AccX   AccY   AccZ       GyrX  ...      GyrZ     EulerX     EulerY     EulerZ\n",
              "0 -0.043 -0.729 -0.159  25.439335  ... -0.802141  19.033665 -12.163898  51.995939\n",
              "1 -0.043 -0.719 -0.142  27.731167  ... -1.718874  19.314414 -12.152439  51.978750\n",
              "2 -0.042 -0.709 -0.136  29.965703  ... -2.005353  19.623811 -12.118062  51.967291\n",
              "3 -0.049 -0.711 -0.157  31.971056  ... -0.974029  19.944668 -12.083684  51.967291\n",
              "4 -0.062 -0.726 -0.151  33.575339  ...  0.401071  20.282713 -12.060766  51.978750\n",
              "\n",
              "[5 rows x 9 columns]"
            ]
          },
          "metadata": {},
          "execution_count": 356
        }
      ]
    },
    {
      "cell_type": "code",
      "source": [
        "Y[1]"
      ],
      "metadata": {
        "colab": {
          "base_uri": "https://localhost:8080/",
          "height": 36
        },
        "id": "q7cBpSEXCSYK",
        "outputId": "2c5318f3-0768-4d5e-a554-3703280fcd1c"
      },
      "execution_count": null,
      "outputs": [
        {
          "output_type": "execute_result",
          "data": {
            "application/vnd.google.colaboratory.intrinsic+json": {
              "type": "string"
            },
            "text/plain": [
              "'Forward fall when trying to sit down'"
            ]
          },
          "metadata": {},
          "execution_count": 357
        }
      ]
    },
    {
      "cell_type": "code",
      "source": [
        "X.info()"
      ],
      "metadata": {
        "colab": {
          "base_uri": "https://localhost:8080/"
        },
        "id": "u08nITeqCXNf",
        "outputId": "77a7340a-18d2-4682-e63f-25036dfafbfc"
      },
      "execution_count": null,
      "outputs": [
        {
          "output_type": "stream",
          "name": "stdout",
          "text": [
            "<class 'pandas.core.frame.DataFrame'>\n",
            "RangeIndex: 5119 entries, 0 to 5118\n",
            "Data columns (total 9 columns):\n",
            " #   Column  Non-Null Count  Dtype  \n",
            "---  ------  --------------  -----  \n",
            " 0   AccX    5119 non-null   float64\n",
            " 1   AccY    5119 non-null   float64\n",
            " 2   AccZ    5119 non-null   float64\n",
            " 3   GyrX    5119 non-null   float64\n",
            " 4   GyrY    5119 non-null   float64\n",
            " 5   GyrZ    5119 non-null   float64\n",
            " 6   EulerX  5119 non-null   float64\n",
            " 7   EulerY  5119 non-null   float64\n",
            " 8   EulerZ  5119 non-null   float64\n",
            "dtypes: float64(9)\n",
            "memory usage: 360.1 KB\n"
          ]
        }
      ]
    },
    {
      "cell_type": "code",
      "source": [
        "#Total Number of Continous and Categorical features in the training set\n",
        "num_cols = X._get_numeric_data().columns\n",
        "print(\"Number of numeric features:\",num_cols.size)"
      ],
      "metadata": {
        "colab": {
          "base_uri": "https://localhost:8080/"
        },
        "id": "lsecLV1wCbym",
        "outputId": "786aa307-d73d-48d5-f36a-b457e1e5914c"
      },
      "execution_count": null,
      "outputs": [
        {
          "output_type": "stream",
          "name": "stdout",
          "text": [
            "Number of numeric features: 9\n"
          ]
        }
      ]
    },
    {
      "cell_type": "code",
      "source": [
        "from sklearn import preprocessing\n",
        "encoder = preprocessing.LabelEncoder()"
      ],
      "metadata": {
        "id": "U8i-t5KzCjJo"
      },
      "execution_count": null,
      "outputs": []
    },
    {
      "cell_type": "code",
      "source": [
        "# encoding train labels \n",
        "encoder.fit(Y)\n",
        "y = encoder.transform(Y)\n",
        "y.shape"
      ],
      "metadata": {
        "colab": {
          "base_uri": "https://localhost:8080/"
        },
        "id": "niKiPr53Cohi",
        "outputId": "9704f0b7-de49-46b7-ab05-04e05a60191b"
      },
      "execution_count": null,
      "outputs": [
        {
          "output_type": "execute_result",
          "data": {
            "text/plain": [
              "(5119,)"
            ]
          },
          "metadata": {},
          "execution_count": 361
        }
      ]
    },
    {
      "cell_type": "code",
      "source": [
        "Y[1]"
      ],
      "metadata": {
        "colab": {
          "base_uri": "https://localhost:8080/",
          "height": 36
        },
        "id": "gk7TqPM6CrnB",
        "outputId": "83e1af2e-4dee-42fe-96f3-abc210c9d34d"
      },
      "execution_count": null,
      "outputs": [
        {
          "output_type": "execute_result",
          "data": {
            "application/vnd.google.colaboratory.intrinsic+json": {
              "type": "string"
            },
            "text/plain": [
              "'Forward fall when trying to sit down'"
            ]
          },
          "metadata": {},
          "execution_count": 362
        }
      ]
    },
    {
      "cell_type": "code",
      "source": [
        "np.array(Y)"
      ],
      "metadata": {
        "colab": {
          "base_uri": "https://localhost:8080/"
        },
        "id": "pkzvU-FHnXwZ",
        "outputId": "12cd5bdf-39fa-462c-dcd9-55ee4fa73b0c"
      },
      "execution_count": null,
      "outputs": [
        {
          "output_type": "execute_result",
          "data": {
            "text/plain": [
              "array(['Forward fall when trying to sit down',\n",
              "       'Forward fall when trying to sit down',\n",
              "       'Forward fall when trying to sit down', ...,\n",
              "       'Backward fall while walking caused by a slip',\n",
              "       'Backward fall while walking caused by a slip',\n",
              "       'Backward fall while walking caused by a slip'], dtype=object)"
            ]
          },
          "metadata": {},
          "execution_count": 363
        }
      ]
    },
    {
      "cell_type": "code",
      "source": [
        "encoder.classes_"
      ],
      "metadata": {
        "colab": {
          "base_uri": "https://localhost:8080/"
        },
        "id": "v7C9LsCSCvUc",
        "outputId": "32da6229-512b-4d86-af57-77325a9feda6"
      },
      "execution_count": null,
      "outputs": [
        {
          "output_type": "execute_result",
          "data": {
            "text/plain": [
              "array(['Backward fall when trying to sit down',\n",
              "       'Backward fall while sitting, caused by fainting',\n",
              "       'Backward fall while walking caused by a slip',\n",
              "       'Fall while walking, with use of hands in a table to dampen fall, caused by fainting',\n",
              "       'Forward fall when trying to get up',\n",
              "       'Forward fall when trying to sit down',\n",
              "       'Forward fall while jogging caused by a trip',\n",
              "       'Forward fall while sitting, caused by fainting',\n",
              "       'Forward fall while walking caused by a slip',\n",
              "       'Forward fall while walking caused by a trip',\n",
              "       'Forward lateral fall while walking caused by a slip',\n",
              "       'Vertical(forward) fall while walking caused by fainting',\n",
              "       'lateral fall when trying to get up',\n",
              "       'lateral fall when trying to sit down',\n",
              "       'lateral fall while sitting, caused by fainting'], dtype=object)"
            ]
          },
          "metadata": {},
          "execution_count": 364
        }
      ]
    },
    {
      "cell_type": "code",
      "source": [
        "encoder.classes_[2]"
      ],
      "metadata": {
        "colab": {
          "base_uri": "https://localhost:8080/",
          "height": 36
        },
        "id": "ud1VA67zC2vO",
        "outputId": "a467aebe-4fd0-46f3-ffbf-a336f7655b79"
      },
      "execution_count": null,
      "outputs": [
        {
          "output_type": "execute_result",
          "data": {
            "application/vnd.google.colaboratory.intrinsic+json": {
              "type": "string"
            },
            "text/plain": [
              "'Backward fall while walking caused by a slip'"
            ]
          },
          "metadata": {},
          "execution_count": 365
        }
      ]
    },
    {
      "cell_type": "code",
      "source": [
        "# Scaling the feature \n",
        "from sklearn.preprocessing import StandardScaler\n",
        "scaler = StandardScaler()"
      ],
      "metadata": {
        "id": "I8HZO1tnC7T_"
      },
      "execution_count": null,
      "outputs": []
    },
    {
      "cell_type": "code",
      "source": [
        "X = scaler.fit_transform(X)\n",
        "X[1]"
      ],
      "metadata": {
        "colab": {
          "base_uri": "https://localhost:8080/"
        },
        "id": "EvZNG2jADCQo",
        "outputId": "6c362041-84c6-4210-e306-8de4ae3edf1e"
      },
      "execution_count": null,
      "outputs": [
        {
          "output_type": "execute_result",
          "data": {
            "text/plain": [
              "array([-0.28630459, -0.20915959,  0.16467631,  0.65037492, -0.31236993,\n",
              "        0.36309047, -1.30970616, -1.2533133 ,  1.47489138])"
            ]
          },
          "metadata": {},
          "execution_count": 367
        }
      ]
    },
    {
      "cell_type": "code",
      "source": [
        "from sklearn.model_selection import train_test_split\n",
        "\n",
        "X_train, X_test, y_train, y_test = train_test_split(X, y, test_size = 0.3, random_state = 99)\n",
        "X_train.shape, X_test.shape, y_train.shape, y_test.shape"
      ],
      "metadata": {
        "colab": {
          "base_uri": "https://localhost:8080/"
        },
        "id": "IlAE1_p1DFGr",
        "outputId": "0d7d084f-4e1c-49ea-c97d-b5573fd21028"
      },
      "execution_count": null,
      "outputs": [
        {
          "output_type": "execute_result",
          "data": {
            "text/plain": [
              "((3583, 9), (1536, 9), (3583,), (1536,))"
            ]
          },
          "metadata": {},
          "execution_count": 368
        }
      ]
    },
    {
      "cell_type": "code",
      "source": [
        "X_train"
      ],
      "metadata": {
        "colab": {
          "base_uri": "https://localhost:8080/"
        },
        "id": "kwCwqvKkzn9x",
        "outputId": "637a5d88-38ff-4a20-c87d-e9db91f1051c"
      },
      "execution_count": null,
      "outputs": [
        {
          "output_type": "execute_result",
          "data": {
            "text/plain": [
              "array([[-0.17889972,  0.05949466,  0.17317926, ...,  0.85194209,\n",
              "        -0.23175132, -0.01040069],\n",
              "       [ 0.44762872, -0.02378816,  0.41693044, ...,  0.03297326,\n",
              "         1.34510682,  2.03661376],\n",
              "       [-0.08451362, -0.01975834, -0.11450382, ..., -0.80170292,\n",
              "         0.62582585,  0.99986022],\n",
              "       ...,\n",
              "       [-0.213074  , -0.02513143, -0.23921373, ..., -1.15104213,\n",
              "        -0.71983484, -0.44346333],\n",
              "       [-1.68907735, -4.28867438,  2.4647238 , ...,  1.40845914,\n",
              "        -1.16639431, -3.38545641],\n",
              "       [-0.48646822, -0.2037865 ,  0.27804895, ...,  0.65947745,\n",
              "        -0.28523993,  0.17596576]])"
            ]
          },
          "metadata": {},
          "execution_count": 369
        }
      ]
    },
    {
      "cell_type": "code",
      "source": [
        "X_test"
      ],
      "metadata": {
        "colab": {
          "base_uri": "https://localhost:8080/"
        },
        "id": "x9i1lGUOz7kH",
        "outputId": "87b3c4f8-88d0-4e9f-fc76-a2750e4ad64a"
      },
      "execution_count": null,
      "outputs": [
        {
          "output_type": "execute_result",
          "data": {
            "text/plain": [
              "array([[-5.52213788e-02,  2.55612265e-01,  3.80084331e-01, ...,\n",
              "        -4.01662789e-01,  7.35266348e-01,  1.09471889e-01],\n",
              "       [ 4.97816160e+00,  1.07097791e+00,  6.35172777e-01, ...,\n",
              "         9.24712805e-01,  3.64828392e+00,  2.95769156e+00],\n",
              "       [-3.02578059e-01, -1.93040333e-01,  2.76631795e-01, ...,\n",
              "         1.00961198e+00, -3.46822204e-01,  2.05871402e-03],\n",
              "       ...,\n",
              "       [-2.60267048e-01, -4.09307005e-01, -2.95900050e-01, ...,\n",
              "        -9.16913376e-02, -1.77207023e-01,  6.89162038e-01],\n",
              "       [-1.17060549e-01, -6.37663118e-01,  9.09840926e-02, ...,\n",
              "         4.04382281e-01, -4.96731057e-01,  7.10277448e-01],\n",
              "       [-6.98674981e-02, -2.81696236e-01,  2.01522419e-01, ...,\n",
              "         9.64279399e-01, -7.47634842e-01, -1.27089889e+00]])"
            ]
          },
          "metadata": {},
          "execution_count": 370
        }
      ]
    },
    {
      "cell_type": "code",
      "source": [
        "y_train"
      ],
      "metadata": {
        "colab": {
          "base_uri": "https://localhost:8080/"
        },
        "id": "VZ3_eYiC0ASy",
        "outputId": "2b71f405-0fe6-49b2-eb9d-9bed97249afd"
      },
      "execution_count": null,
      "outputs": [
        {
          "output_type": "execute_result",
          "data": {
            "text/plain": [
              "array([ 6, 12, 14, ...,  7,  3, 10])"
            ]
          },
          "metadata": {},
          "execution_count": 371
        }
      ]
    },
    {
      "cell_type": "code",
      "source": [
        "y_test"
      ],
      "metadata": {
        "colab": {
          "base_uri": "https://localhost:8080/"
        },
        "id": "67UbfI9C0D5f",
        "outputId": "b9e155e5-6cea-410a-dd03-4c13938ba940"
      },
      "execution_count": null,
      "outputs": [
        {
          "output_type": "execute_result",
          "data": {
            "text/plain": [
              "array([ 6, 13, 11, ..., 14,  4,  9])"
            ]
          },
          "metadata": {},
          "execution_count": 372
        }
      ]
    },
    {
      "cell_type": "code",
      "source": [
        "# instantiate classifier with default hyperparameters\n",
        "svc = SVC() "
      ],
      "metadata": {
        "id": "grQ-2NrkDePP"
      },
      "execution_count": null,
      "outputs": []
    },
    {
      "cell_type": "code",
      "source": [
        "# fit classifier to training set\n",
        "svc.fit(X_train,y_train)"
      ],
      "metadata": {
        "colab": {
          "base_uri": "https://localhost:8080/"
        },
        "id": "QcKco9hEDyDr",
        "outputId": "9cf100d1-aec7-4cc5-e2ff-3d6be5819750"
      },
      "execution_count": null,
      "outputs": [
        {
          "output_type": "execute_result",
          "data": {
            "text/plain": [
              "SVC()"
            ]
          },
          "metadata": {},
          "execution_count": 374
        }
      ]
    },
    {
      "cell_type": "code",
      "source": [
        "# make predictions on test set\n",
        "y_pred = svc.predict(X_test)"
      ],
      "metadata": {
        "id": "RqL9PhOHD1f3"
      },
      "execution_count": null,
      "outputs": []
    },
    {
      "cell_type": "code",
      "source": [
        "# compute and print accuracy score\n",
        "print('Model accuracy score with default hyperparameters: {0:0.4f}'. format(accuracy_score(y_test, y_pred)))"
      ],
      "metadata": {
        "colab": {
          "base_uri": "https://localhost:8080/"
        },
        "id": "BEHD4u6wD6Wa",
        "outputId": "3b04e2e7-3a7f-42de-84a6-ad7098991d66"
      },
      "execution_count": null,
      "outputs": [
        {
          "output_type": "stream",
          "name": "stdout",
          "text": [
            "Model accuracy score with default hyperparameters: 0.8581\n"
          ]
        }
      ]
    },
    {
      "cell_type": "code",
      "source": [
        "# instantiate classifier with rbf kernel and C=100\n",
        "svc = SVC(C=100.0) \n",
        "\n",
        "\n",
        "# fit classifier to training set\n",
        "svc.fit(X_train,y_train)\n",
        "\n",
        "\n",
        "# make predictions on test set\n",
        "y_pred = svc.predict(X_test)\n",
        "\n",
        "\n",
        "# compute and print accuracy score\n",
        "print('Model accuracy score with rbf kernel and C=100.0 : {0:0.4f}'. format(accuracy_score(y_test, y_pred)))"
      ],
      "metadata": {
        "colab": {
          "base_uri": "https://localhost:8080/"
        },
        "id": "hK9XMGVsEBqj",
        "outputId": "d0e2c914-075b-48f2-f4b8-eb311f0b7675"
      },
      "execution_count": null,
      "outputs": [
        {
          "output_type": "stream",
          "name": "stdout",
          "text": [
            "Model accuracy score with rbf kernel and C=100.0 : 0.9766\n"
          ]
        }
      ]
    },
    {
      "cell_type": "code",
      "source": [
        "# instantiate classifier with rbf kernel and C=1000\n",
        "svc=SVC(C=1000.0) \n",
        "\n",
        "\n",
        "# fit classifier to training set\n",
        "svc.fit(X_train,y_train)\n",
        "\n",
        "\n",
        "# make predictions on test set\n",
        "y_pred=svc.predict(X_test)\n",
        "\n",
        "\n",
        "# compute and print accuracy score\n",
        "print('Model accuracy score with rbf kernel and C=1000.0 : {0:0.4f}'. format(accuracy_score(y_test, y_pred)))"
      ],
      "metadata": {
        "colab": {
          "base_uri": "https://localhost:8080/"
        },
        "id": "xvnXwLimEM2Q",
        "outputId": "18cb9fbc-c521-41d0-dee5-0b362dd41b08"
      },
      "execution_count": null,
      "outputs": [
        {
          "output_type": "stream",
          "name": "stdout",
          "text": [
            "Model accuracy score with rbf kernel and C=1000.0 : 0.9818\n"
          ]
        }
      ]
    },
    {
      "cell_type": "code",
      "source": [
        "# instantiate classifier with linear kernel and C=1.0\n",
        "linear_svc=SVC(kernel='linear', C=1.0) \n",
        "\n",
        "\n",
        "# fit classifier to training set\n",
        "linear_svc.fit(X_train,y_train)\n",
        "\n",
        "\n",
        "# make predictions on test set\n",
        "y_pred_test=linear_svc.predict(X_test)\n",
        "\n",
        "\n",
        "# compute and print accuracy score\n",
        "print('Model accuracy score with linear kernel and C=1.0 : {0:0.4f}'. format(accuracy_score(y_test, y_pred_test)))"
      ],
      "metadata": {
        "colab": {
          "base_uri": "https://localhost:8080/"
        },
        "id": "mqN3rUPsEVul",
        "outputId": "2674b6c5-3a23-4acd-df54-275840eeaf35"
      },
      "execution_count": null,
      "outputs": [
        {
          "output_type": "stream",
          "name": "stdout",
          "text": [
            "Model accuracy score with linear kernel and C=1.0 : 0.6842\n"
          ]
        }
      ]
    },
    {
      "cell_type": "code",
      "source": [
        "# instantiate classifier with linear kernel and C=100.0\n",
        "linear_svc100=SVC(kernel='linear', C=100.0) \n",
        "\n",
        "\n",
        "# fit classifier to training set\n",
        "linear_svc100.fit(X_train, y_train)\n",
        "\n",
        "\n",
        "# make predictions on test set\n",
        "y_pred=linear_svc100.predict(X_test)\n",
        "\n",
        "\n",
        "# compute and print accuracy score\n",
        "print('Model accuracy score with linear kernel and C=100.0 : {0:0.4f}'. format(accuracy_score(y_test, y_pred)))"
      ],
      "metadata": {
        "colab": {
          "base_uri": "https://localhost:8080/"
        },
        "id": "_H9ll7ntEsGK",
        "outputId": "22283c22-0b42-475c-d32b-ac98fa395c86"
      },
      "execution_count": null,
      "outputs": [
        {
          "output_type": "stream",
          "name": "stdout",
          "text": [
            "Model accuracy score with linear kernel and C=100.0 : 0.7155\n"
          ]
        }
      ]
    },
    {
      "cell_type": "code",
      "source": [
        "# instantiate classifier with linear kernel and C=1000.0\n",
        "linear_svc1000=SVC(kernel='linear', C=1000.0) \n",
        "\n",
        "\n",
        "# fit classifier to training set\n",
        "linear_svc1000.fit(X_train, y_train)\n",
        "\n",
        "\n",
        "# make predictions on test set\n",
        "y_pred=linear_svc1000.predict(X_test)\n",
        "\n",
        "\n",
        "# compute and print accuracy score\n",
        "print('Model accuracy score with linear kernel and C=1000.0 : {0:0.4f}'. format(accuracy_score(y_test, y_pred)))"
      ],
      "metadata": {
        "colab": {
          "base_uri": "https://localhost:8080/"
        },
        "id": "tESqLSJ7E1-A",
        "outputId": "24a0b89c-8733-4959-cd96-d1ea68440e06"
      },
      "execution_count": null,
      "outputs": [
        {
          "output_type": "stream",
          "name": "stdout",
          "text": [
            "Model accuracy score with linear kernel and C=1000.0 : 0.7122\n"
          ]
        }
      ]
    },
    {
      "cell_type": "code",
      "source": [
        "y_pred_train = linear_svc.predict(X_train)\n",
        "\n",
        "y_pred_train"
      ],
      "metadata": {
        "colab": {
          "base_uri": "https://localhost:8080/"
        },
        "id": "421yvN46FBkA",
        "outputId": "94495854-3686-44c6-ee60-8e697610ae5f"
      },
      "execution_count": null,
      "outputs": [
        {
          "output_type": "execute_result",
          "data": {
            "text/plain": [
              "array([ 6, 10, 14, ...,  7,  3, 11])"
            ]
          },
          "metadata": {},
          "execution_count": 382
        }
      ]
    },
    {
      "cell_type": "code",
      "source": [
        "print('Training-set accuracy score: {0:0.4f}'. format(accuracy_score(y_train, y_pred_train)))"
      ],
      "metadata": {
        "colab": {
          "base_uri": "https://localhost:8080/"
        },
        "id": "e2qUkepcFUIG",
        "outputId": "af024d70-83ac-452f-9a78-fb6fd4a65763"
      },
      "execution_count": null,
      "outputs": [
        {
          "output_type": "stream",
          "name": "stdout",
          "text": [
            "Training-set accuracy score: 0.7190\n"
          ]
        }
      ]
    },
    {
      "cell_type": "code",
      "source": [
        "print('Training set score: {:.4f}'.format(linear_svc.score(X_train, y_train)))\n",
        "\n",
        "print('Validation set score: {:.4f}'.format(linear_svc.score(X_test, y_test)))"
      ],
      "metadata": {
        "colab": {
          "base_uri": "https://localhost:8080/"
        },
        "id": "Ei8ZLivHFbSO",
        "outputId": "e7679cd8-0da3-4d74-bed2-bd8d7bfc2177"
      },
      "execution_count": null,
      "outputs": [
        {
          "output_type": "stream",
          "name": "stdout",
          "text": [
            "Training set score: 0.7190\n",
            "Validation set score: 0.6842\n"
          ]
        }
      ]
    },
    {
      "cell_type": "code",
      "source": [
        "# instantiate classifier with polynomial kernel and C=1.0\n",
        "poly_svc=SVC(kernel='poly', C=1.0) \n",
        "\n",
        "\n",
        "# fit classifier to training set\n",
        "poly_svc.fit(X_train,y_train)\n",
        "\n",
        "\n",
        "# make predictions on test set\n",
        "y_pred=poly_svc.predict(X_test)\n",
        "\n",
        "\n",
        "# compute and print accuracy score\n",
        "print('Model accuracy score with polynomial kernel and C=1.0 : {0:0.4f}'. format(accuracy_score(y_test, y_pred)))"
      ],
      "metadata": {
        "colab": {
          "base_uri": "https://localhost:8080/"
        },
        "id": "Gtg88QebFijI",
        "outputId": "2a990fe1-0c85-4889-a047-553762b22708"
      },
      "execution_count": null,
      "outputs": [
        {
          "output_type": "stream",
          "name": "stdout",
          "text": [
            "Model accuracy score with polynomial kernel and C=1.0 : 0.5332\n"
          ]
        }
      ]
    },
    {
      "cell_type": "code",
      "source": [
        "# instantiate classifier with polynomial kernel and C=100.0\n",
        "poly_svc100=SVC(kernel='poly', C=100.0) \n",
        "\n",
        "\n",
        "# fit classifier to training set\n",
        "poly_svc100.fit(X_train, y_train)\n",
        "\n",
        "\n",
        "# make predictions on test set\n",
        "y_pred=poly_svc100.predict(X_test)\n",
        "\n",
        "\n",
        "# compute and print accuracy score\n",
        "print('Model accuracy score with polynomial kernel and C=1.0 : {0:0.4f}'. format(accuracy_score(y_test, y_pred)))"
      ],
      "metadata": {
        "colab": {
          "base_uri": "https://localhost:8080/"
        },
        "id": "hsU_uCjXFp4N",
        "outputId": "df61864a-6b68-423e-8b1d-eff7676027fd"
      },
      "execution_count": null,
      "outputs": [
        {
          "output_type": "stream",
          "name": "stdout",
          "text": [
            "Model accuracy score with polynomial kernel and C=1.0 : 0.8789\n"
          ]
        }
      ]
    },
    {
      "cell_type": "code",
      "source": [
        "# instantiate classifier with sigmoid kernel and C=1.0\n",
        "sigmoid_svc=SVC(kernel='sigmoid', C=1.0) \n",
        "\n",
        "\n",
        "# fit classifier to training set\n",
        "sigmoid_svc.fit(X_train,y_train)\n",
        "\n",
        "\n",
        "# make predictions on test set\n",
        "y_pred=sigmoid_svc.predict(X_test)\n",
        "\n",
        "\n",
        "# compute and print accuracy score\n",
        "print('Model accuracy score with sigmoid kernel and C=1.0 : {0:0.4f}'. format(accuracy_score(y_test, y_pred)))"
      ],
      "metadata": {
        "colab": {
          "base_uri": "https://localhost:8080/"
        },
        "id": "9iqlsw9sF_wa",
        "outputId": "8debf99a-cccf-46b3-b5a1-e5b856794969"
      },
      "execution_count": null,
      "outputs": [
        {
          "output_type": "stream",
          "name": "stdout",
          "text": [
            "Model accuracy score with sigmoid kernel and C=1.0 : 0.3353\n"
          ]
        }
      ]
    },
    {
      "cell_type": "code",
      "source": [
        "# instantiate classifier with sigmoid kernel and C=100.0\n",
        "sigmoid_svc100=SVC(kernel='sigmoid', C=100.0) \n",
        "\n",
        "\n",
        "# fit classifier to training set\n",
        "sigmoid_svc100.fit(X_train,y_train)\n",
        "\n",
        "\n",
        "# make predictions on test set\n",
        "y_pred=sigmoid_svc100.predict(X_test)\n",
        "\n",
        "\n",
        "# compute and print accuracy score\n",
        "print('Model accuracy score with sigmoid kernel and C=100.0 : {0:0.4f}'. format(accuracy_score(y_test, y_pred)))"
      ],
      "metadata": {
        "colab": {
          "base_uri": "https://localhost:8080/"
        },
        "id": "T2Hr0IjVGQJc",
        "outputId": "52caaaca-7f1c-47d6-838d-b89fc975ce95"
      },
      "execution_count": null,
      "outputs": [
        {
          "output_type": "stream",
          "name": "stdout",
          "text": [
            "Model accuracy score with sigmoid kernel and C=100.0 : 0.2760\n"
          ]
        }
      ]
    },
    {
      "cell_type": "code",
      "source": [
        "# Create the parameter grid based on the results of random search \n",
        "params_grid = [{'kernel': ['rbf'], 'gamma': [1e-3, 1e-4],\n",
        "                     'C': [1, 10, 100, 1000]},\n",
        "                    {'kernel': ['linear'], 'C': [1, 10, 100, 1000]}]"
      ],
      "metadata": {
        "id": "VMpAVj8kGXBv"
      },
      "execution_count": null,
      "outputs": []
    },
    {
      "cell_type": "code",
      "source": [
        "# Performing CV to tune parameters for best SVM fit \n",
        "svm_model = GridSearchCV(SVC(), params_grid, cv=5)\n",
        "svm_model.fit(X_train, y_train)"
      ],
      "metadata": {
        "colab": {
          "base_uri": "https://localhost:8080/"
        },
        "id": "T3u_RDJuGa_Y",
        "outputId": "1a6f22bf-9b1c-4b11-e1ca-5959b6282ba5"
      },
      "execution_count": null,
      "outputs": [
        {
          "output_type": "execute_result",
          "data": {
            "text/plain": [
              "GridSearchCV(cv=5, estimator=SVC(),\n",
              "             param_grid=[{'C': [1, 10, 100, 1000], 'gamma': [0.001, 0.0001],\n",
              "                          'kernel': ['rbf']},\n",
              "                         {'C': [1, 10, 100, 1000], 'kernel': ['linear']}])"
            ]
          },
          "metadata": {},
          "execution_count": 390
        }
      ]
    },
    {
      "cell_type": "code",
      "source": [
        "# View the accuracy score\n",
        "print('Best score for training data:', svm_model.best_score_,\"\\n\") \n",
        "\n",
        "# View the best parameters for the model found using grid search\n",
        "print('Best C:',svm_model.best_estimator_.C,\"\\n\") \n",
        "print('Best Kernel:',svm_model.best_estimator_.kernel,\"\\n\")\n",
        "print('Best Gamma:',svm_model.best_estimator_.gamma,\"\\n\")\n",
        "\n",
        "final_model = svm_model.best_estimator_\n",
        "Y_pred = final_model.predict(X_test)\n",
        "Y_pred_label = list(encoder.inverse_transform(Y_pred))"
      ],
      "metadata": {
        "colab": {
          "base_uri": "https://localhost:8080/"
        },
        "id": "aJF-umo_GflV",
        "outputId": "5d57eed8-8fef-4838-9b54-11819454208d"
      },
      "execution_count": null,
      "outputs": [
        {
          "output_type": "stream",
          "name": "stdout",
          "text": [
            "Best score for training data: 0.793467894626119 \n",
            "\n",
            "Best C: 1000 \n",
            "\n",
            "Best Kernel: rbf \n",
            "\n",
            "Best Gamma: 0.001 \n",
            "\n"
          ]
        }
      ]
    },
    {
      "cell_type": "code",
      "source": [
        "Y_pred"
      ],
      "metadata": {
        "colab": {
          "base_uri": "https://localhost:8080/"
        },
        "id": "llFCWVo1y0Wi",
        "outputId": "f29a440c-6799-4b1b-8342-48085089412b"
      },
      "execution_count": null,
      "outputs": [
        {
          "output_type": "execute_result",
          "data": {
            "text/plain": [
              "array([ 6, 13,  6, ..., 14,  4,  2])"
            ]
          },
          "metadata": {},
          "execution_count": 392
        }
      ]
    },
    {
      "cell_type": "code",
      "source": [
        "Y_pred_label"
      ],
      "metadata": {
        "colab": {
          "base_uri": "https://localhost:8080/"
        },
        "id": "0b391-tru9PR",
        "outputId": "d9cd75b9-6138-4191-c879-df1c532cb7ee"
      },
      "execution_count": null,
      "outputs": [
        {
          "output_type": "execute_result",
          "data": {
            "text/plain": [
              "['Forward fall while jogging caused by a trip',\n",
              " 'lateral fall when trying to sit down',\n",
              " 'Forward fall while jogging caused by a trip',\n",
              " 'Forward fall while jogging caused by a trip',\n",
              " 'Forward fall when trying to sit down',\n",
              " 'Forward fall while jogging caused by a trip',\n",
              " 'Vertical(forward) fall while walking caused by fainting',\n",
              " 'Forward fall when trying to sit down',\n",
              " 'lateral fall when trying to get up',\n",
              " 'Backward fall while walking caused by a slip',\n",
              " 'lateral fall when trying to get up',\n",
              " 'Fall while walking, with use of hands in a table to dampen fall, caused by fainting',\n",
              " 'Forward fall when trying to sit down',\n",
              " 'Fall while walking, with use of hands in a table to dampen fall, caused by fainting',\n",
              " 'Forward fall while sitting, caused by fainting',\n",
              " 'lateral fall when trying to get up',\n",
              " 'Forward fall when trying to sit down',\n",
              " 'Forward fall when trying to sit down',\n",
              " 'Backward fall while walking caused by a slip',\n",
              " 'Forward fall when trying to sit down',\n",
              " 'Forward fall when trying to get up',\n",
              " 'Backward fall while sitting, caused by fainting',\n",
              " 'Backward fall while sitting, caused by fainting',\n",
              " 'lateral fall while sitting, caused by fainting',\n",
              " 'Forward fall while sitting, caused by fainting',\n",
              " 'Forward lateral fall while walking caused by a slip',\n",
              " 'Forward fall while jogging caused by a trip',\n",
              " 'Forward fall while walking caused by a slip',\n",
              " 'Forward fall while walking caused by a slip',\n",
              " 'lateral fall while sitting, caused by fainting',\n",
              " 'lateral fall while sitting, caused by fainting',\n",
              " 'Forward fall when trying to get up',\n",
              " 'Backward fall while walking caused by a slip',\n",
              " 'Backward fall while walking caused by a slip',\n",
              " 'Forward fall while walking caused by a trip',\n",
              " 'Forward fall while sitting, caused by fainting',\n",
              " 'Backward fall while walking caused by a slip',\n",
              " 'Vertical(forward) fall while walking caused by fainting',\n",
              " 'Forward fall when trying to sit down',\n",
              " 'Backward fall while sitting, caused by fainting',\n",
              " 'Forward fall while walking caused by a trip',\n",
              " 'Fall while walking, with use of hands in a table to dampen fall, caused by fainting',\n",
              " 'Forward fall while sitting, caused by fainting',\n",
              " 'Forward fall when trying to get up',\n",
              " 'lateral fall when trying to sit down',\n",
              " 'Forward fall while sitting, caused by fainting',\n",
              " 'lateral fall while sitting, caused by fainting',\n",
              " 'Forward fall while walking caused by a slip',\n",
              " 'Vertical(forward) fall while walking caused by fainting',\n",
              " 'Forward fall while sitting, caused by fainting',\n",
              " 'lateral fall when trying to get up',\n",
              " 'Vertical(forward) fall while walking caused by fainting',\n",
              " 'Forward fall when trying to sit down',\n",
              " 'Fall while walking, with use of hands in a table to dampen fall, caused by fainting',\n",
              " 'lateral fall when trying to get up',\n",
              " 'Forward fall while walking caused by a slip',\n",
              " 'Forward fall while walking caused by a slip',\n",
              " 'Backward fall while sitting, caused by fainting',\n",
              " 'Forward fall when trying to sit down',\n",
              " 'Forward fall when trying to get up',\n",
              " 'lateral fall when trying to sit down',\n",
              " 'Vertical(forward) fall while walking caused by fainting',\n",
              " 'Forward fall while walking caused by a trip',\n",
              " 'Forward fall while jogging caused by a trip',\n",
              " 'Forward fall while walking caused by a slip',\n",
              " 'Forward fall when trying to sit down',\n",
              " 'Forward fall when trying to sit down',\n",
              " 'Forward fall when trying to sit down',\n",
              " 'Forward fall when trying to get up',\n",
              " 'Forward fall when trying to sit down',\n",
              " 'Vertical(forward) fall while walking caused by fainting',\n",
              " 'lateral fall while sitting, caused by fainting',\n",
              " 'Forward fall while walking caused by a trip',\n",
              " 'Forward fall while jogging caused by a trip',\n",
              " 'lateral fall when trying to get up',\n",
              " 'lateral fall while sitting, caused by fainting',\n",
              " 'Backward fall while sitting, caused by fainting',\n",
              " 'lateral fall when trying to sit down',\n",
              " 'Forward fall while sitting, caused by fainting',\n",
              " 'Backward fall while walking caused by a slip',\n",
              " 'Backward fall when trying to sit down',\n",
              " 'Forward fall when trying to get up',\n",
              " 'Forward fall when trying to get up',\n",
              " 'lateral fall while sitting, caused by fainting',\n",
              " 'Forward fall when trying to sit down',\n",
              " 'lateral fall when trying to get up',\n",
              " 'lateral fall when trying to get up',\n",
              " 'Forward fall while walking caused by a slip',\n",
              " 'Forward fall when trying to get up',\n",
              " 'Forward fall while jogging caused by a trip',\n",
              " 'Forward fall while sitting, caused by fainting',\n",
              " 'Forward fall when trying to sit down',\n",
              " 'lateral fall while sitting, caused by fainting',\n",
              " 'Forward lateral fall while walking caused by a slip',\n",
              " 'Forward fall when trying to get up',\n",
              " 'Forward fall when trying to get up',\n",
              " 'Backward fall when trying to sit down',\n",
              " 'lateral fall when trying to sit down',\n",
              " 'Forward lateral fall while walking caused by a slip',\n",
              " 'Fall while walking, with use of hands in a table to dampen fall, caused by fainting',\n",
              " 'lateral fall when trying to get up',\n",
              " 'lateral fall while sitting, caused by fainting',\n",
              " 'Backward fall while walking caused by a slip',\n",
              " 'Backward fall when trying to sit down',\n",
              " 'Forward fall when trying to get up',\n",
              " 'Forward fall while sitting, caused by fainting',\n",
              " 'Forward fall while jogging caused by a trip',\n",
              " 'lateral fall when trying to sit down',\n",
              " 'Forward fall while walking caused by a trip',\n",
              " 'Forward fall while jogging caused by a trip',\n",
              " 'lateral fall when trying to get up',\n",
              " 'Forward lateral fall while walking caused by a slip',\n",
              " 'lateral fall while sitting, caused by fainting',\n",
              " 'Forward fall when trying to get up',\n",
              " 'lateral fall while sitting, caused by fainting',\n",
              " 'Forward fall when trying to sit down',\n",
              " 'Backward fall while sitting, caused by fainting',\n",
              " 'Forward fall when trying to get up',\n",
              " 'Forward fall when trying to get up',\n",
              " 'lateral fall while sitting, caused by fainting',\n",
              " 'lateral fall when trying to get up',\n",
              " 'Forward fall while jogging caused by a trip',\n",
              " 'Vertical(forward) fall while walking caused by fainting',\n",
              " 'lateral fall while sitting, caused by fainting',\n",
              " 'Backward fall while walking caused by a slip',\n",
              " 'Forward fall while walking caused by a trip',\n",
              " 'Fall while walking, with use of hands in a table to dampen fall, caused by fainting',\n",
              " 'Forward lateral fall while walking caused by a slip',\n",
              " 'Backward fall while sitting, caused by fainting',\n",
              " 'lateral fall while sitting, caused by fainting',\n",
              " 'Forward fall when trying to sit down',\n",
              " 'Fall while walking, with use of hands in a table to dampen fall, caused by fainting',\n",
              " 'Backward fall when trying to sit down',\n",
              " 'Vertical(forward) fall while walking caused by fainting',\n",
              " 'Forward fall when trying to sit down',\n",
              " 'lateral fall while sitting, caused by fainting',\n",
              " 'lateral fall when trying to get up',\n",
              " 'lateral fall while sitting, caused by fainting',\n",
              " 'lateral fall while sitting, caused by fainting',\n",
              " 'lateral fall when trying to get up',\n",
              " 'Forward fall when trying to sit down',\n",
              " 'Forward fall while jogging caused by a trip',\n",
              " 'Vertical(forward) fall while walking caused by fainting',\n",
              " 'lateral fall while sitting, caused by fainting',\n",
              " 'Vertical(forward) fall while walking caused by fainting',\n",
              " 'Forward lateral fall while walking caused by a slip',\n",
              " 'Forward fall when trying to sit down',\n",
              " 'lateral fall while sitting, caused by fainting',\n",
              " 'Forward fall while walking caused by a trip',\n",
              " 'Forward fall when trying to get up',\n",
              " 'Backward fall while walking caused by a slip',\n",
              " 'Backward fall while sitting, caused by fainting',\n",
              " 'Forward fall while sitting, caused by fainting',\n",
              " 'Forward fall when trying to sit down',\n",
              " 'Forward fall while sitting, caused by fainting',\n",
              " 'Backward fall while walking caused by a slip',\n",
              " 'Forward fall while jogging caused by a trip',\n",
              " 'Forward fall when trying to sit down',\n",
              " 'Fall while walking, with use of hands in a table to dampen fall, caused by fainting',\n",
              " 'lateral fall when trying to sit down',\n",
              " 'lateral fall while sitting, caused by fainting',\n",
              " 'Backward fall while walking caused by a slip',\n",
              " 'Vertical(forward) fall while walking caused by fainting',\n",
              " 'lateral fall when trying to sit down',\n",
              " 'Forward fall when trying to sit down',\n",
              " 'Vertical(forward) fall while walking caused by fainting',\n",
              " 'Forward fall while walking caused by a trip',\n",
              " 'Forward fall when trying to sit down',\n",
              " 'Forward fall while jogging caused by a trip',\n",
              " 'Forward fall while sitting, caused by fainting',\n",
              " 'Backward fall while sitting, caused by fainting',\n",
              " 'Backward fall when trying to sit down',\n",
              " 'lateral fall when trying to get up',\n",
              " 'Fall while walking, with use of hands in a table to dampen fall, caused by fainting',\n",
              " 'Forward fall while jogging caused by a trip',\n",
              " 'lateral fall when trying to sit down',\n",
              " 'Backward fall while sitting, caused by fainting',\n",
              " 'lateral fall when trying to get up',\n",
              " 'Forward fall while jogging caused by a trip',\n",
              " 'lateral fall when trying to sit down',\n",
              " 'lateral fall while sitting, caused by fainting',\n",
              " 'Forward fall when trying to get up',\n",
              " 'Forward fall while sitting, caused by fainting',\n",
              " 'Forward fall when trying to sit down',\n",
              " 'Backward fall while sitting, caused by fainting',\n",
              " 'Forward fall while sitting, caused by fainting',\n",
              " 'lateral fall while sitting, caused by fainting',\n",
              " 'Vertical(forward) fall while walking caused by fainting',\n",
              " 'Backward fall while walking caused by a slip',\n",
              " 'Backward fall while sitting, caused by fainting',\n",
              " 'Vertical(forward) fall while walking caused by fainting',\n",
              " 'Forward fall when trying to get up',\n",
              " 'Forward lateral fall while walking caused by a slip',\n",
              " 'Forward fall while sitting, caused by fainting',\n",
              " 'Fall while walking, with use of hands in a table to dampen fall, caused by fainting',\n",
              " 'Forward fall while walking caused by a slip',\n",
              " 'lateral fall when trying to get up',\n",
              " 'Forward fall when trying to sit down',\n",
              " 'lateral fall when trying to get up',\n",
              " 'Forward fall while sitting, caused by fainting',\n",
              " 'Forward fall while jogging caused by a trip',\n",
              " 'Forward fall when trying to get up',\n",
              " 'Forward fall while walking caused by a trip',\n",
              " 'Backward fall while walking caused by a slip',\n",
              " 'Forward fall while walking caused by a trip',\n",
              " 'Vertical(forward) fall while walking caused by fainting',\n",
              " 'Forward fall while sitting, caused by fainting',\n",
              " 'lateral fall while sitting, caused by fainting',\n",
              " 'Forward fall while walking caused by a slip',\n",
              " 'Forward lateral fall while walking caused by a slip',\n",
              " 'Backward fall while walking caused by a slip',\n",
              " 'Forward fall while jogging caused by a trip',\n",
              " 'lateral fall when trying to sit down',\n",
              " 'Forward fall when trying to sit down',\n",
              " 'lateral fall while sitting, caused by fainting',\n",
              " 'lateral fall while sitting, caused by fainting',\n",
              " 'Vertical(forward) fall while walking caused by fainting',\n",
              " 'lateral fall when trying to sit down',\n",
              " 'Forward fall while sitting, caused by fainting',\n",
              " 'Forward fall when trying to sit down',\n",
              " 'Vertical(forward) fall while walking caused by fainting',\n",
              " 'lateral fall when trying to get up',\n",
              " 'Backward fall while walking caused by a slip',\n",
              " 'Forward fall while jogging caused by a trip',\n",
              " 'Forward lateral fall while walking caused by a slip',\n",
              " 'Forward fall while walking caused by a trip',\n",
              " 'Backward fall while walking caused by a slip',\n",
              " 'Forward fall when trying to get up',\n",
              " 'lateral fall when trying to sit down',\n",
              " 'Forward fall when trying to get up',\n",
              " 'Forward fall while jogging caused by a trip',\n",
              " 'Forward fall while sitting, caused by fainting',\n",
              " 'Forward fall while sitting, caused by fainting',\n",
              " 'Backward fall while walking caused by a slip',\n",
              " 'lateral fall while sitting, caused by fainting',\n",
              " 'Forward lateral fall while walking caused by a slip',\n",
              " 'lateral fall when trying to get up',\n",
              " 'Forward fall while walking caused by a trip',\n",
              " 'Forward fall while sitting, caused by fainting',\n",
              " 'Forward fall when trying to sit down',\n",
              " 'Backward fall while sitting, caused by fainting',\n",
              " 'Forward fall when trying to get up',\n",
              " 'Forward fall while walking caused by a trip',\n",
              " 'Forward fall while jogging caused by a trip',\n",
              " 'Backward fall while sitting, caused by fainting',\n",
              " 'Forward fall when trying to get up',\n",
              " 'Backward fall when trying to sit down',\n",
              " 'Fall while walking, with use of hands in a table to dampen fall, caused by fainting',\n",
              " 'Forward fall while walking caused by a trip',\n",
              " 'Forward fall when trying to get up',\n",
              " 'Vertical(forward) fall while walking caused by fainting',\n",
              " 'lateral fall while sitting, caused by fainting',\n",
              " 'Forward fall when trying to get up',\n",
              " 'Forward fall while sitting, caused by fainting',\n",
              " 'Backward fall while walking caused by a slip',\n",
              " 'Forward fall while walking caused by a trip',\n",
              " 'Vertical(forward) fall while walking caused by fainting',\n",
              " 'Backward fall while sitting, caused by fainting',\n",
              " 'Forward fall when trying to get up',\n",
              " 'Forward fall while sitting, caused by fainting',\n",
              " 'lateral fall while sitting, caused by fainting',\n",
              " 'Forward fall while jogging caused by a trip',\n",
              " 'Forward fall while jogging caused by a trip',\n",
              " 'Forward fall when trying to sit down',\n",
              " 'Forward fall while jogging caused by a trip',\n",
              " 'Fall while walking, with use of hands in a table to dampen fall, caused by fainting',\n",
              " 'Backward fall while walking caused by a slip',\n",
              " 'Forward fall while jogging caused by a trip',\n",
              " 'lateral fall when trying to sit down',\n",
              " 'Forward fall while jogging caused by a trip',\n",
              " 'Backward fall while walking caused by a slip',\n",
              " 'Forward fall when trying to get up',\n",
              " 'Forward fall while walking caused by a slip',\n",
              " 'Forward fall while jogging caused by a trip',\n",
              " 'Fall while walking, with use of hands in a table to dampen fall, caused by fainting',\n",
              " 'Forward fall while jogging caused by a trip',\n",
              " 'lateral fall when trying to sit down',\n",
              " 'lateral fall while sitting, caused by fainting',\n",
              " 'lateral fall when trying to sit down',\n",
              " 'Backward fall while walking caused by a slip',\n",
              " 'Backward fall when trying to sit down',\n",
              " 'Fall while walking, with use of hands in a table to dampen fall, caused by fainting',\n",
              " 'Forward fall while jogging caused by a trip',\n",
              " 'lateral fall when trying to sit down',\n",
              " 'Forward fall when trying to get up',\n",
              " 'Forward fall while jogging caused by a trip',\n",
              " 'Backward fall while sitting, caused by fainting',\n",
              " 'lateral fall while sitting, caused by fainting',\n",
              " 'Fall while walking, with use of hands in a table to dampen fall, caused by fainting',\n",
              " 'Vertical(forward) fall while walking caused by fainting',\n",
              " 'Forward fall when trying to sit down',\n",
              " 'Vertical(forward) fall while walking caused by fainting',\n",
              " 'lateral fall while sitting, caused by fainting',\n",
              " 'lateral fall when trying to sit down',\n",
              " 'lateral fall while sitting, caused by fainting',\n",
              " 'Fall while walking, with use of hands in a table to dampen fall, caused by fainting',\n",
              " 'Vertical(forward) fall while walking caused by fainting',\n",
              " 'Forward fall when trying to sit down',\n",
              " 'Forward fall while walking caused by a slip',\n",
              " 'Forward fall when trying to get up',\n",
              " 'Forward fall while jogging caused by a trip',\n",
              " 'lateral fall while sitting, caused by fainting',\n",
              " 'Backward fall while sitting, caused by fainting',\n",
              " 'Backward fall while walking caused by a slip',\n",
              " 'lateral fall while sitting, caused by fainting',\n",
              " 'Backward fall while sitting, caused by fainting',\n",
              " 'lateral fall when trying to sit down',\n",
              " 'Forward fall while walking caused by a trip',\n",
              " 'Forward fall while walking caused by a trip',\n",
              " 'lateral fall while sitting, caused by fainting',\n",
              " 'Forward fall while jogging caused by a trip',\n",
              " 'Forward fall when trying to get up',\n",
              " 'lateral fall when trying to sit down',\n",
              " 'Forward fall while sitting, caused by fainting',\n",
              " 'Forward fall when trying to sit down',\n",
              " 'Forward fall when trying to sit down',\n",
              " 'Fall while walking, with use of hands in a table to dampen fall, caused by fainting',\n",
              " 'Forward fall while jogging caused by a trip',\n",
              " 'lateral fall when trying to get up',\n",
              " 'Forward fall while walking caused by a trip',\n",
              " 'Forward fall while walking caused by a trip',\n",
              " 'Forward fall when trying to sit down',\n",
              " 'lateral fall while sitting, caused by fainting',\n",
              " 'Forward fall when trying to get up',\n",
              " 'lateral fall when trying to sit down',\n",
              " 'Backward fall while walking caused by a slip',\n",
              " 'Forward fall while jogging caused by a trip',\n",
              " 'Fall while walking, with use of hands in a table to dampen fall, caused by fainting',\n",
              " 'Forward fall while walking caused by a trip',\n",
              " 'Forward fall while jogging caused by a trip',\n",
              " 'Backward fall while sitting, caused by fainting',\n",
              " 'Forward lateral fall while walking caused by a slip',\n",
              " 'lateral fall when trying to sit down',\n",
              " 'Vertical(forward) fall while walking caused by fainting',\n",
              " 'Forward fall while walking caused by a trip',\n",
              " 'Forward fall while jogging caused by a trip',\n",
              " 'Backward fall while walking caused by a slip',\n",
              " 'Vertical(forward) fall while walking caused by fainting',\n",
              " 'Forward fall when trying to sit down',\n",
              " 'Forward fall while walking caused by a trip',\n",
              " 'Forward fall when trying to get up',\n",
              " 'Forward fall when trying to sit down',\n",
              " 'Backward fall while sitting, caused by fainting',\n",
              " 'lateral fall when trying to sit down',\n",
              " 'lateral fall when trying to get up',\n",
              " 'lateral fall when trying to sit down',\n",
              " 'Forward fall while walking caused by a slip',\n",
              " 'Forward fall while walking caused by a slip',\n",
              " 'Backward fall while walking caused by a slip',\n",
              " 'Fall while walking, with use of hands in a table to dampen fall, caused by fainting',\n",
              " 'Forward fall while jogging caused by a trip',\n",
              " 'Backward fall while walking caused by a slip',\n",
              " 'Forward fall while walking caused by a trip',\n",
              " 'lateral fall while sitting, caused by fainting',\n",
              " 'lateral fall when trying to get up',\n",
              " 'Forward fall while sitting, caused by fainting',\n",
              " 'Backward fall when trying to sit down',\n",
              " 'Backward fall while walking caused by a slip',\n",
              " 'Forward lateral fall while walking caused by a slip',\n",
              " 'Vertical(forward) fall while walking caused by fainting',\n",
              " 'Forward fall while walking caused by a trip',\n",
              " 'lateral fall when trying to get up',\n",
              " 'Forward fall while jogging caused by a trip',\n",
              " 'Backward fall while sitting, caused by fainting',\n",
              " 'Forward fall when trying to get up',\n",
              " 'Forward fall while walking caused by a trip',\n",
              " 'Vertical(forward) fall while walking caused by fainting',\n",
              " 'Forward fall when trying to get up',\n",
              " 'Forward fall while jogging caused by a trip',\n",
              " 'Forward fall when trying to sit down',\n",
              " 'Forward fall when trying to get up',\n",
              " 'lateral fall when trying to sit down',\n",
              " 'Backward fall while walking caused by a slip',\n",
              " 'Forward fall when trying to sit down',\n",
              " 'Backward fall while walking caused by a slip',\n",
              " 'Forward fall when trying to sit down',\n",
              " 'lateral fall while sitting, caused by fainting',\n",
              " 'Forward fall while jogging caused by a trip',\n",
              " 'Forward fall while walking caused by a trip',\n",
              " 'Fall while walking, with use of hands in a table to dampen fall, caused by fainting',\n",
              " 'Fall while walking, with use of hands in a table to dampen fall, caused by fainting',\n",
              " 'Forward lateral fall while walking caused by a slip',\n",
              " 'Vertical(forward) fall while walking caused by fainting',\n",
              " 'Fall while walking, with use of hands in a table to dampen fall, caused by fainting',\n",
              " 'Forward fall while walking caused by a trip',\n",
              " 'lateral fall while sitting, caused by fainting',\n",
              " 'Backward fall while walking caused by a slip',\n",
              " 'Forward fall while walking caused by a slip',\n",
              " 'Forward fall when trying to sit down',\n",
              " 'Forward fall when trying to sit down',\n",
              " 'Forward fall while jogging caused by a trip',\n",
              " 'Vertical(forward) fall while walking caused by fainting',\n",
              " 'Forward fall while sitting, caused by fainting',\n",
              " 'Forward fall while sitting, caused by fainting',\n",
              " 'Forward fall when trying to sit down',\n",
              " 'lateral fall when trying to get up',\n",
              " 'Forward fall while walking caused by a slip',\n",
              " 'lateral fall when trying to sit down',\n",
              " 'Forward fall while walking caused by a slip',\n",
              " 'Backward fall when trying to sit down',\n",
              " 'Forward lateral fall while walking caused by a slip',\n",
              " 'Forward fall while jogging caused by a trip',\n",
              " 'Fall while walking, with use of hands in a table to dampen fall, caused by fainting',\n",
              " 'Backward fall while sitting, caused by fainting',\n",
              " 'lateral fall when trying to get up',\n",
              " 'Forward fall while sitting, caused by fainting',\n",
              " 'Forward lateral fall while walking caused by a slip',\n",
              " 'Forward fall when trying to get up',\n",
              " 'Forward fall when trying to sit down',\n",
              " 'lateral fall when trying to sit down',\n",
              " 'Forward fall while jogging caused by a trip',\n",
              " 'Forward fall when trying to sit down',\n",
              " 'Forward fall while sitting, caused by fainting',\n",
              " 'Forward fall when trying to get up',\n",
              " 'Forward fall while walking caused by a slip',\n",
              " 'Forward fall while walking caused by a trip',\n",
              " 'Forward fall while sitting, caused by fainting',\n",
              " 'Vertical(forward) fall while walking caused by fainting',\n",
              " 'lateral fall while sitting, caused by fainting',\n",
              " 'Backward fall when trying to sit down',\n",
              " 'Forward fall while walking caused by a trip',\n",
              " 'Forward fall when trying to sit down',\n",
              " 'Forward fall while sitting, caused by fainting',\n",
              " 'Forward fall when trying to get up',\n",
              " 'Forward fall when trying to get up',\n",
              " 'Fall while walking, with use of hands in a table to dampen fall, caused by fainting',\n",
              " 'Forward fall while jogging caused by a trip',\n",
              " 'Fall while walking, with use of hands in a table to dampen fall, caused by fainting',\n",
              " 'lateral fall when trying to get up',\n",
              " 'Backward fall while walking caused by a slip',\n",
              " 'Forward fall while walking caused by a trip',\n",
              " 'Forward fall when trying to get up',\n",
              " 'Backward fall while sitting, caused by fainting',\n",
              " 'Backward fall while sitting, caused by fainting',\n",
              " 'Fall while walking, with use of hands in a table to dampen fall, caused by fainting',\n",
              " 'Forward fall while jogging caused by a trip',\n",
              " 'Fall while walking, with use of hands in a table to dampen fall, caused by fainting',\n",
              " 'Forward fall when trying to get up',\n",
              " 'Vertical(forward) fall while walking caused by fainting',\n",
              " 'Fall while walking, with use of hands in a table to dampen fall, caused by fainting',\n",
              " 'Forward fall when trying to get up',\n",
              " 'Backward fall while walking caused by a slip',\n",
              " 'Vertical(forward) fall while walking caused by fainting',\n",
              " 'Forward fall while sitting, caused by fainting',\n",
              " 'Forward fall while sitting, caused by fainting',\n",
              " 'Forward fall when trying to sit down',\n",
              " 'Forward fall while walking caused by a trip',\n",
              " 'Backward fall while sitting, caused by fainting',\n",
              " 'lateral fall while sitting, caused by fainting',\n",
              " 'lateral fall when trying to sit down',\n",
              " 'Forward fall while jogging caused by a trip',\n",
              " 'lateral fall while sitting, caused by fainting',\n",
              " 'lateral fall while sitting, caused by fainting',\n",
              " 'Forward fall while walking caused by a slip',\n",
              " 'Forward fall while jogging caused by a trip',\n",
              " 'Vertical(forward) fall while walking caused by fainting',\n",
              " 'Backward fall while walking caused by a slip',\n",
              " 'Forward fall while sitting, caused by fainting',\n",
              " 'Forward fall when trying to get up',\n",
              " 'Forward fall while walking caused by a trip',\n",
              " 'Forward fall when trying to sit down',\n",
              " 'Forward fall when trying to get up',\n",
              " 'Forward fall while jogging caused by a trip',\n",
              " 'Backward fall while walking caused by a slip',\n",
              " 'Backward fall while walking caused by a slip',\n",
              " 'Fall while walking, with use of hands in a table to dampen fall, caused by fainting',\n",
              " 'Backward fall while sitting, caused by fainting',\n",
              " 'Forward fall when trying to sit down',\n",
              " 'Vertical(forward) fall while walking caused by fainting',\n",
              " 'Backward fall when trying to sit down',\n",
              " 'Vertical(forward) fall while walking caused by fainting',\n",
              " 'Forward fall while walking caused by a slip',\n",
              " 'Forward fall while jogging caused by a trip',\n",
              " 'Forward fall when trying to sit down',\n",
              " 'lateral fall when trying to sit down',\n",
              " 'lateral fall while sitting, caused by fainting',\n",
              " 'lateral fall when trying to get up',\n",
              " 'Forward fall while walking caused by a slip',\n",
              " 'Forward fall while walking caused by a trip',\n",
              " 'Forward fall when trying to sit down',\n",
              " 'lateral fall while sitting, caused by fainting',\n",
              " 'Forward fall while walking caused by a slip',\n",
              " 'lateral fall when trying to get up',\n",
              " 'Fall while walking, with use of hands in a table to dampen fall, caused by fainting',\n",
              " 'Backward fall while sitting, caused by fainting',\n",
              " 'Forward fall while jogging caused by a trip',\n",
              " 'Forward fall while walking caused by a slip',\n",
              " 'Forward fall when trying to sit down',\n",
              " 'lateral fall while sitting, caused by fainting',\n",
              " 'lateral fall when trying to get up',\n",
              " 'Forward fall while walking caused by a slip',\n",
              " 'Vertical(forward) fall while walking caused by fainting',\n",
              " 'lateral fall while sitting, caused by fainting',\n",
              " 'lateral fall when trying to get up',\n",
              " 'Vertical(forward) fall while walking caused by fainting',\n",
              " 'Forward fall when trying to sit down',\n",
              " 'Forward fall while walking caused by a trip',\n",
              " 'Forward fall when trying to sit down',\n",
              " 'Forward fall when trying to get up',\n",
              " 'Forward fall while walking caused by a trip',\n",
              " 'Forward fall while jogging caused by a trip',\n",
              " 'lateral fall while sitting, caused by fainting',\n",
              " 'Backward fall while walking caused by a slip',\n",
              " 'Forward fall when trying to get up',\n",
              " 'Forward lateral fall while walking caused by a slip',\n",
              " 'Vertical(forward) fall while walking caused by fainting',\n",
              " 'Backward fall when trying to sit down',\n",
              " 'Vertical(forward) fall while walking caused by fainting',\n",
              " 'Forward fall while walking caused by a trip',\n",
              " 'Forward fall while sitting, caused by fainting',\n",
              " 'Forward fall when trying to get up',\n",
              " 'Forward fall when trying to get up',\n",
              " 'Vertical(forward) fall while walking caused by fainting',\n",
              " 'Forward fall while walking caused by a slip',\n",
              " 'Forward fall when trying to sit down',\n",
              " 'lateral fall while sitting, caused by fainting',\n",
              " 'lateral fall when trying to sit down',\n",
              " 'Forward fall while walking caused by a trip',\n",
              " 'Forward fall while sitting, caused by fainting',\n",
              " 'lateral fall while sitting, caused by fainting',\n",
              " 'Forward fall while sitting, caused by fainting',\n",
              " 'Forward fall while walking caused by a slip',\n",
              " 'lateral fall while sitting, caused by fainting',\n",
              " 'lateral fall when trying to get up',\n",
              " 'Forward fall while walking caused by a slip',\n",
              " 'lateral fall when trying to sit down',\n",
              " 'lateral fall while sitting, caused by fainting',\n",
              " 'Forward fall while jogging caused by a trip',\n",
              " 'Vertical(forward) fall while walking caused by fainting',\n",
              " 'lateral fall while sitting, caused by fainting',\n",
              " 'Forward lateral fall while walking caused by a slip',\n",
              " 'Backward fall while walking caused by a slip',\n",
              " 'Forward lateral fall while walking caused by a slip',\n",
              " 'Forward fall while walking caused by a slip',\n",
              " 'Forward fall while walking caused by a trip',\n",
              " 'Forward fall while sitting, caused by fainting',\n",
              " 'Forward fall when trying to sit down',\n",
              " 'Forward lateral fall while walking caused by a slip',\n",
              " 'Forward fall when trying to sit down',\n",
              " 'lateral fall when trying to sit down',\n",
              " 'Forward fall when trying to sit down',\n",
              " 'Backward fall while walking caused by a slip',\n",
              " 'Fall while walking, with use of hands in a table to dampen fall, caused by fainting',\n",
              " 'Forward fall when trying to sit down',\n",
              " 'Forward fall when trying to get up',\n",
              " 'Fall while walking, with use of hands in a table to dampen fall, caused by fainting',\n",
              " 'Forward fall while sitting, caused by fainting',\n",
              " 'lateral fall while sitting, caused by fainting',\n",
              " 'Fall while walking, with use of hands in a table to dampen fall, caused by fainting',\n",
              " 'Forward fall when trying to get up',\n",
              " 'Forward fall when trying to get up',\n",
              " 'Forward fall while sitting, caused by fainting',\n",
              " 'lateral fall when trying to get up',\n",
              " 'Forward fall while sitting, caused by fainting',\n",
              " 'Forward fall when trying to sit down',\n",
              " 'Forward fall while walking caused by a trip',\n",
              " 'lateral fall when trying to get up',\n",
              " 'Fall while walking, with use of hands in a table to dampen fall, caused by fainting',\n",
              " 'Vertical(forward) fall while walking caused by fainting',\n",
              " 'Forward fall while sitting, caused by fainting',\n",
              " 'Forward fall when trying to sit down',\n",
              " 'lateral fall when trying to sit down',\n",
              " 'lateral fall when trying to sit down',\n",
              " 'Forward fall while walking caused by a trip',\n",
              " 'Forward lateral fall while walking caused by a slip',\n",
              " 'lateral fall when trying to get up',\n",
              " 'Forward fall when trying to get up',\n",
              " 'lateral fall while sitting, caused by fainting',\n",
              " 'lateral fall when trying to get up',\n",
              " 'Backward fall while walking caused by a slip',\n",
              " 'lateral fall when trying to sit down',\n",
              " 'Forward fall while walking caused by a trip',\n",
              " 'Forward fall while walking caused by a slip',\n",
              " 'lateral fall while sitting, caused by fainting',\n",
              " 'Forward fall when trying to sit down',\n",
              " 'Backward fall while sitting, caused by fainting',\n",
              " 'Backward fall while walking caused by a slip',\n",
              " 'lateral fall when trying to sit down',\n",
              " 'Forward fall when trying to sit down',\n",
              " 'Forward fall when trying to sit down',\n",
              " 'Forward fall while walking caused by a slip',\n",
              " 'Fall while walking, with use of hands in a table to dampen fall, caused by fainting',\n",
              " 'Forward fall when trying to get up',\n",
              " 'Fall while walking, with use of hands in a table to dampen fall, caused by fainting',\n",
              " 'Forward fall when trying to sit down',\n",
              " 'lateral fall when trying to sit down',\n",
              " 'lateral fall while sitting, caused by fainting',\n",
              " 'Fall while walking, with use of hands in a table to dampen fall, caused by fainting',\n",
              " 'Forward fall when trying to sit down',\n",
              " 'Forward fall while walking caused by a trip',\n",
              " 'Forward fall when trying to sit down',\n",
              " 'lateral fall when trying to sit down',\n",
              " 'lateral fall when trying to sit down',\n",
              " 'Backward fall when trying to sit down',\n",
              " 'lateral fall when trying to sit down',\n",
              " 'Forward fall when trying to sit down',\n",
              " 'Backward fall while sitting, caused by fainting',\n",
              " 'lateral fall when trying to sit down',\n",
              " 'Fall while walking, with use of hands in a table to dampen fall, caused by fainting',\n",
              " 'Forward fall while walking caused by a trip',\n",
              " 'Forward fall when trying to sit down',\n",
              " 'Forward lateral fall while walking caused by a slip',\n",
              " 'Forward fall when trying to get up',\n",
              " 'lateral fall when trying to get up',\n",
              " 'Forward fall when trying to get up',\n",
              " 'Forward fall when trying to get up',\n",
              " 'Forward fall when trying to sit down',\n",
              " 'Forward fall while walking caused by a trip',\n",
              " 'lateral fall when trying to sit down',\n",
              " 'Fall while walking, with use of hands in a table to dampen fall, caused by fainting',\n",
              " 'Forward fall when trying to get up',\n",
              " 'Forward fall while sitting, caused by fainting',\n",
              " 'Forward fall while jogging caused by a trip',\n",
              " 'Backward fall while sitting, caused by fainting',\n",
              " 'Forward fall while walking caused by a trip',\n",
              " 'Forward fall when trying to get up',\n",
              " 'Forward fall while sitting, caused by fainting',\n",
              " 'Forward fall when trying to get up',\n",
              " 'Forward fall when trying to sit down',\n",
              " 'Backward fall while sitting, caused by fainting',\n",
              " 'Backward fall while sitting, caused by fainting',\n",
              " 'Forward fall when trying to sit down',\n",
              " 'Forward fall while jogging caused by a trip',\n",
              " 'lateral fall when trying to sit down',\n",
              " 'Forward fall when trying to get up',\n",
              " 'Backward fall while sitting, caused by fainting',\n",
              " 'Forward fall when trying to sit down',\n",
              " 'Vertical(forward) fall while walking caused by fainting',\n",
              " 'Forward lateral fall while walking caused by a slip',\n",
              " 'Forward fall while sitting, caused by fainting',\n",
              " 'Vertical(forward) fall while walking caused by fainting',\n",
              " 'Backward fall while walking caused by a slip',\n",
              " 'lateral fall while sitting, caused by fainting',\n",
              " 'lateral fall when trying to sit down',\n",
              " 'Forward fall while sitting, caused by fainting',\n",
              " 'lateral fall while sitting, caused by fainting',\n",
              " 'Backward fall while walking caused by a slip',\n",
              " 'lateral fall while sitting, caused by fainting',\n",
              " 'Forward fall while jogging caused by a trip',\n",
              " 'Forward fall when trying to get up',\n",
              " 'Vertical(forward) fall while walking caused by fainting',\n",
              " 'Forward fall while walking caused by a trip',\n",
              " 'Backward fall when trying to sit down',\n",
              " 'lateral fall while sitting, caused by fainting',\n",
              " 'Forward fall when trying to sit down',\n",
              " 'Forward fall while jogging caused by a trip',\n",
              " 'lateral fall while sitting, caused by fainting',\n",
              " 'Forward fall while walking caused by a trip',\n",
              " 'Forward fall when trying to sit down',\n",
              " 'Forward fall while jogging caused by a trip',\n",
              " 'Forward fall while sitting, caused by fainting',\n",
              " 'lateral fall when trying to get up',\n",
              " 'lateral fall when trying to get up',\n",
              " 'lateral fall when trying to get up',\n",
              " 'Forward fall when trying to sit down',\n",
              " 'Forward fall when trying to get up',\n",
              " 'Vertical(forward) fall while walking caused by fainting',\n",
              " 'Forward fall when trying to sit down',\n",
              " 'Fall while walking, with use of hands in a table to dampen fall, caused by fainting',\n",
              " 'Fall while walking, with use of hands in a table to dampen fall, caused by fainting',\n",
              " 'lateral fall when trying to get up',\n",
              " 'Forward lateral fall while walking caused by a slip',\n",
              " 'lateral fall while sitting, caused by fainting',\n",
              " 'Forward fall while sitting, caused by fainting',\n",
              " 'lateral fall while sitting, caused by fainting',\n",
              " 'Vertical(forward) fall while walking caused by fainting',\n",
              " 'Forward fall while sitting, caused by fainting',\n",
              " 'Forward fall while sitting, caused by fainting',\n",
              " 'Backward fall while sitting, caused by fainting',\n",
              " 'Forward fall when trying to sit down',\n",
              " 'Forward fall when trying to sit down',\n",
              " 'Forward fall while sitting, caused by fainting',\n",
              " 'Forward fall while jogging caused by a trip',\n",
              " 'Forward lateral fall while walking caused by a slip',\n",
              " 'Forward lateral fall while walking caused by a slip',\n",
              " 'lateral fall when trying to sit down',\n",
              " 'Backward fall while walking caused by a slip',\n",
              " 'Forward fall while jogging caused by a trip',\n",
              " 'Forward lateral fall while walking caused by a slip',\n",
              " 'Forward fall while jogging caused by a trip',\n",
              " 'Backward fall when trying to sit down',\n",
              " 'Forward fall when trying to sit down',\n",
              " 'Forward fall while jogging caused by a trip',\n",
              " 'lateral fall when trying to get up',\n",
              " 'Forward fall while walking caused by a trip',\n",
              " 'lateral fall while sitting, caused by fainting',\n",
              " 'Backward fall while walking caused by a slip',\n",
              " 'Backward fall while walking caused by a slip',\n",
              " 'Backward fall while sitting, caused by fainting',\n",
              " 'Forward fall while sitting, caused by fainting',\n",
              " 'Forward fall while walking caused by a trip',\n",
              " 'Forward fall while sitting, caused by fainting',\n",
              " 'Forward fall while jogging caused by a trip',\n",
              " 'Fall while walking, with use of hands in a table to dampen fall, caused by fainting',\n",
              " 'lateral fall when trying to get up',\n",
              " 'lateral fall while sitting, caused by fainting',\n",
              " 'Forward fall while jogging caused by a trip',\n",
              " 'Forward fall when trying to sit down',\n",
              " 'Vertical(forward) fall while walking caused by fainting',\n",
              " 'Forward fall when trying to get up',\n",
              " 'Backward fall while sitting, caused by fainting',\n",
              " 'Forward fall when trying to sit down',\n",
              " 'Fall while walking, with use of hands in a table to dampen fall, caused by fainting',\n",
              " 'Backward fall while walking caused by a slip',\n",
              " 'lateral fall while sitting, caused by fainting',\n",
              " 'Backward fall while walking caused by a slip',\n",
              " 'Forward lateral fall while walking caused by a slip',\n",
              " 'lateral fall when trying to sit down',\n",
              " 'Forward lateral fall while walking caused by a slip',\n",
              " 'Forward fall while jogging caused by a trip',\n",
              " 'Backward fall while sitting, caused by fainting',\n",
              " 'Fall while walking, with use of hands in a table to dampen fall, caused by fainting',\n",
              " 'Forward fall while sitting, caused by fainting',\n",
              " 'Forward fall while walking caused by a trip',\n",
              " 'Forward fall when trying to sit down',\n",
              " 'Forward fall while sitting, caused by fainting',\n",
              " 'Forward fall while walking caused by a trip',\n",
              " 'Forward fall when trying to get up',\n",
              " 'lateral fall when trying to sit down',\n",
              " 'Vertical(forward) fall while walking caused by fainting',\n",
              " 'Forward fall when trying to get up',\n",
              " 'Forward fall when trying to sit down',\n",
              " 'Vertical(forward) fall while walking caused by fainting',\n",
              " 'Forward fall while sitting, caused by fainting',\n",
              " 'Vertical(forward) fall while walking caused by fainting',\n",
              " 'lateral fall while sitting, caused by fainting',\n",
              " 'Forward fall while sitting, caused by fainting',\n",
              " 'Forward fall when trying to get up',\n",
              " 'lateral fall while sitting, caused by fainting',\n",
              " 'Forward fall while walking caused by a slip',\n",
              " 'Forward lateral fall while walking caused by a slip',\n",
              " 'Forward fall when trying to sit down',\n",
              " 'Forward fall while jogging caused by a trip',\n",
              " 'Forward fall while walking caused by a slip',\n",
              " 'Forward fall when trying to get up',\n",
              " 'Backward fall while walking caused by a slip',\n",
              " 'Backward fall while sitting, caused by fainting',\n",
              " 'lateral fall when trying to get up',\n",
              " 'Backward fall while sitting, caused by fainting',\n",
              " 'Backward fall when trying to sit down',\n",
              " 'Backward fall while sitting, caused by fainting',\n",
              " 'Forward fall while sitting, caused by fainting',\n",
              " 'Backward fall while sitting, caused by fainting',\n",
              " 'Forward fall while walking caused by a slip',\n",
              " 'Forward fall when trying to sit down',\n",
              " 'Backward fall while walking caused by a slip',\n",
              " 'Forward fall while walking caused by a slip',\n",
              " 'Fall while walking, with use of hands in a table to dampen fall, caused by fainting',\n",
              " 'lateral fall while sitting, caused by fainting',\n",
              " 'Forward fall while walking caused by a trip',\n",
              " 'lateral fall while sitting, caused by fainting',\n",
              " 'Fall while walking, with use of hands in a table to dampen fall, caused by fainting',\n",
              " 'Forward fall while jogging caused by a trip',\n",
              " 'Forward fall while jogging caused by a trip',\n",
              " 'Forward fall while jogging caused by a trip',\n",
              " 'lateral fall when trying to get up',\n",
              " 'lateral fall while sitting, caused by fainting',\n",
              " 'Forward fall while sitting, caused by fainting',\n",
              " 'Vertical(forward) fall while walking caused by fainting',\n",
              " 'lateral fall when trying to get up',\n",
              " 'Forward fall when trying to sit down',\n",
              " 'lateral fall while sitting, caused by fainting',\n",
              " 'Forward fall while jogging caused by a trip',\n",
              " 'Forward fall while walking caused by a slip',\n",
              " 'Forward fall while sitting, caused by fainting',\n",
              " 'Forward fall while walking caused by a trip',\n",
              " 'Forward fall while walking caused by a trip',\n",
              " 'Fall while walking, with use of hands in a table to dampen fall, caused by fainting',\n",
              " 'Forward fall when trying to get up',\n",
              " 'Forward fall while walking caused by a slip',\n",
              " 'lateral fall when trying to get up',\n",
              " 'Forward fall while walking caused by a trip',\n",
              " 'Backward fall while sitting, caused by fainting',\n",
              " 'Forward lateral fall while walking caused by a slip',\n",
              " 'Forward fall when trying to sit down',\n",
              " 'lateral fall when trying to sit down',\n",
              " 'lateral fall while sitting, caused by fainting',\n",
              " 'Forward fall while walking caused by a slip',\n",
              " 'Backward fall while sitting, caused by fainting',\n",
              " 'lateral fall when trying to get up',\n",
              " 'Backward fall while walking caused by a slip',\n",
              " 'lateral fall while sitting, caused by fainting',\n",
              " 'Forward fall when trying to sit down',\n",
              " 'Forward fall while walking caused by a trip',\n",
              " 'Forward fall when trying to get up',\n",
              " 'Backward fall while sitting, caused by fainting',\n",
              " 'Vertical(forward) fall while walking caused by fainting',\n",
              " 'Forward fall when trying to sit down',\n",
              " 'lateral fall when trying to get up',\n",
              " 'Forward fall when trying to sit down',\n",
              " 'Forward fall when trying to sit down',\n",
              " 'Forward fall while walking caused by a slip',\n",
              " 'lateral fall when trying to sit down',\n",
              " 'Backward fall while sitting, caused by fainting',\n",
              " 'Forward fall while sitting, caused by fainting',\n",
              " 'Backward fall when trying to sit down',\n",
              " 'Forward fall while walking caused by a trip',\n",
              " 'lateral fall while sitting, caused by fainting',\n",
              " 'Forward fall when trying to sit down',\n",
              " 'Forward fall while sitting, caused by fainting',\n",
              " 'Forward fall while walking caused by a trip',\n",
              " 'Forward fall when trying to get up',\n",
              " 'Backward fall when trying to sit down',\n",
              " 'lateral fall when trying to get up',\n",
              " 'Forward lateral fall while walking caused by a slip',\n",
              " 'Forward fall while walking caused by a trip',\n",
              " 'Forward fall when trying to sit down',\n",
              " 'Forward fall when trying to get up',\n",
              " 'Fall while walking, with use of hands in a table to dampen fall, caused by fainting',\n",
              " 'lateral fall while sitting, caused by fainting',\n",
              " 'Backward fall while sitting, caused by fainting',\n",
              " 'Forward fall when trying to get up',\n",
              " 'Backward fall while walking caused by a slip',\n",
              " 'Backward fall when trying to sit down',\n",
              " 'Backward fall while sitting, caused by fainting',\n",
              " 'Forward fall when trying to sit down',\n",
              " 'Backward fall while walking caused by a slip',\n",
              " 'Backward fall while walking caused by a slip',\n",
              " 'Forward fall while walking caused by a slip',\n",
              " 'Forward fall while jogging caused by a trip',\n",
              " 'Backward fall while sitting, caused by fainting',\n",
              " 'Backward fall while walking caused by a slip',\n",
              " 'lateral fall when trying to get up',\n",
              " 'Vertical(forward) fall while walking caused by fainting',\n",
              " 'Backward fall when trying to sit down',\n",
              " 'Forward fall when trying to get up',\n",
              " 'Fall while walking, with use of hands in a table to dampen fall, caused by fainting',\n",
              " 'lateral fall when trying to sit down',\n",
              " 'Backward fall while walking caused by a slip',\n",
              " 'Forward fall while walking caused by a trip',\n",
              " 'Backward fall while sitting, caused by fainting',\n",
              " 'Forward fall while jogging caused by a trip',\n",
              " 'Forward fall while walking caused by a slip',\n",
              " 'Forward fall when trying to get up',\n",
              " 'Forward fall when trying to get up',\n",
              " 'Forward fall when trying to get up',\n",
              " 'Forward fall when trying to sit down',\n",
              " 'Forward fall when trying to get up',\n",
              " 'lateral fall while sitting, caused by fainting',\n",
              " 'Forward fall when trying to sit down',\n",
              " 'Forward fall when trying to sit down',\n",
              " 'Forward fall while jogging caused by a trip',\n",
              " 'Forward fall while walking caused by a trip',\n",
              " 'lateral fall while sitting, caused by fainting',\n",
              " 'lateral fall when trying to get up',\n",
              " 'Fall while walking, with use of hands in a table to dampen fall, caused by fainting',\n",
              " 'lateral fall when trying to sit down',\n",
              " 'Forward fall while sitting, caused by fainting',\n",
              " 'Forward fall while sitting, caused by fainting',\n",
              " 'Forward fall while walking caused by a slip',\n",
              " 'Vertical(forward) fall while walking caused by fainting',\n",
              " 'Forward fall while jogging caused by a trip',\n",
              " 'Vertical(forward) fall while walking caused by fainting',\n",
              " 'Forward fall when trying to get up',\n",
              " 'Forward fall when trying to sit down',\n",
              " 'Forward fall while walking caused by a trip',\n",
              " 'lateral fall when trying to sit down',\n",
              " 'Backward fall when trying to sit down',\n",
              " 'Backward fall while walking caused by a slip',\n",
              " 'Forward fall while walking caused by a slip',\n",
              " 'Forward fall when trying to get up',\n",
              " 'lateral fall when trying to sit down',\n",
              " 'Fall while walking, with use of hands in a table to dampen fall, caused by fainting',\n",
              " 'Forward fall when trying to get up',\n",
              " 'lateral fall while sitting, caused by fainting',\n",
              " 'Backward fall while sitting, caused by fainting',\n",
              " 'Forward fall while walking caused by a trip',\n",
              " 'Forward fall while walking caused by a trip',\n",
              " 'Fall while walking, with use of hands in a table to dampen fall, caused by fainting',\n",
              " 'Forward fall while jogging caused by a trip',\n",
              " 'Forward fall while sitting, caused by fainting',\n",
              " 'Forward fall when trying to get up',\n",
              " 'Fall while walking, with use of hands in a table to dampen fall, caused by fainting',\n",
              " 'Vertical(forward) fall while walking caused by fainting',\n",
              " 'Backward fall while walking caused by a slip',\n",
              " 'Forward fall while walking caused by a trip',\n",
              " 'lateral fall when trying to get up',\n",
              " 'Forward fall while jogging caused by a trip',\n",
              " 'lateral fall while sitting, caused by fainting',\n",
              " 'Forward fall when trying to sit down',\n",
              " 'Forward fall when trying to get up',\n",
              " 'Forward fall while walking caused by a slip',\n",
              " 'lateral fall when trying to sit down',\n",
              " 'lateral fall while sitting, caused by fainting',\n",
              " 'Forward fall while walking caused by a trip',\n",
              " 'lateral fall when trying to sit down',\n",
              " 'Backward fall while walking caused by a slip',\n",
              " 'Forward fall when trying to get up',\n",
              " 'Forward fall when trying to get up',\n",
              " 'Backward fall while walking caused by a slip',\n",
              " 'Forward fall when trying to get up',\n",
              " 'Forward fall when trying to sit down',\n",
              " 'Forward fall when trying to get up',\n",
              " 'Forward fall when trying to sit down',\n",
              " 'Backward fall while sitting, caused by fainting',\n",
              " 'lateral fall while sitting, caused by fainting',\n",
              " 'Forward lateral fall while walking caused by a slip',\n",
              " 'Forward fall while jogging caused by a trip',\n",
              " 'Forward fall when trying to sit down',\n",
              " 'Forward lateral fall while walking caused by a slip',\n",
              " 'Forward fall when trying to get up',\n",
              " 'lateral fall when trying to sit down',\n",
              " 'Forward fall when trying to sit down',\n",
              " 'Forward fall when trying to get up',\n",
              " 'Forward fall while walking caused by a slip',\n",
              " 'Fall while walking, with use of hands in a table to dampen fall, caused by fainting',\n",
              " 'Vertical(forward) fall while walking caused by fainting',\n",
              " 'Forward fall while sitting, caused by fainting',\n",
              " 'lateral fall when trying to sit down',\n",
              " 'lateral fall while sitting, caused by fainting',\n",
              " 'Forward fall when trying to get up',\n",
              " 'Forward fall while walking caused by a slip',\n",
              " 'Forward lateral fall while walking caused by a slip',\n",
              " 'Fall while walking, with use of hands in a table to dampen fall, caused by fainting',\n",
              " 'Forward fall while sitting, caused by fainting',\n",
              " 'Fall while walking, with use of hands in a table to dampen fall, caused by fainting',\n",
              " 'Backward fall while sitting, caused by fainting',\n",
              " 'lateral fall when trying to sit down',\n",
              " 'Forward fall when trying to sit down',\n",
              " 'Forward fall when trying to get up',\n",
              " 'Forward lateral fall while walking caused by a slip',\n",
              " 'Forward fall while jogging caused by a trip',\n",
              " 'Forward fall when trying to sit down',\n",
              " 'lateral fall when trying to sit down',\n",
              " 'Vertical(forward) fall while walking caused by fainting',\n",
              " 'Forward fall when trying to sit down',\n",
              " 'Forward fall while jogging caused by a trip',\n",
              " 'Forward fall while sitting, caused by fainting',\n",
              " 'Forward fall while walking caused by a slip',\n",
              " 'Forward fall while walking caused by a trip',\n",
              " 'Forward fall while sitting, caused by fainting',\n",
              " 'Backward fall while walking caused by a slip',\n",
              " 'lateral fall while sitting, caused by fainting',\n",
              " 'Backward fall while walking caused by a slip',\n",
              " 'Vertical(forward) fall while walking caused by fainting',\n",
              " 'Forward fall when trying to sit down',\n",
              " 'Forward fall while walking caused by a trip',\n",
              " 'Backward fall when trying to sit down',\n",
              " 'Forward fall while jogging caused by a trip',\n",
              " 'Forward fall when trying to get up',\n",
              " 'Backward fall while sitting, caused by fainting',\n",
              " 'Backward fall when trying to sit down',\n",
              " 'Fall while walking, with use of hands in a table to dampen fall, caused by fainting',\n",
              " 'Forward fall while jogging caused by a trip',\n",
              " 'Fall while walking, with use of hands in a table to dampen fall, caused by fainting',\n",
              " 'Forward fall while walking caused by a slip',\n",
              " 'Backward fall while walking caused by a slip',\n",
              " 'Forward lateral fall while walking caused by a slip',\n",
              " 'Vertical(forward) fall while walking caused by fainting',\n",
              " 'Forward fall while sitting, caused by fainting',\n",
              " 'lateral fall when trying to sit down',\n",
              " 'Backward fall while walking caused by a slip',\n",
              " 'Forward fall while walking caused by a trip',\n",
              " 'Forward fall while jogging caused by a trip',\n",
              " 'Forward fall while sitting, caused by fainting',\n",
              " 'Forward fall while walking caused by a slip',\n",
              " 'lateral fall when trying to get up',\n",
              " 'Forward fall when trying to get up',\n",
              " 'Forward fall when trying to get up',\n",
              " 'Fall while walking, with use of hands in a table to dampen fall, caused by fainting',\n",
              " 'Forward fall when trying to sit down',\n",
              " 'Backward fall while walking caused by a slip',\n",
              " 'Forward fall while walking caused by a slip',\n",
              " 'lateral fall while sitting, caused by fainting',\n",
              " 'lateral fall when trying to get up',\n",
              " 'Backward fall while walking caused by a slip',\n",
              " 'Vertical(forward) fall while walking caused by fainting',\n",
              " 'Forward fall when trying to sit down',\n",
              " 'Vertical(forward) fall while walking caused by fainting',\n",
              " 'Forward fall when trying to sit down',\n",
              " 'Fall while walking, with use of hands in a table to dampen fall, caused by fainting',\n",
              " 'Backward fall when trying to sit down',\n",
              " 'Forward fall while jogging caused by a trip',\n",
              " 'Backward fall while walking caused by a slip',\n",
              " 'Forward fall when trying to sit down',\n",
              " 'Forward fall while walking caused by a trip',\n",
              " 'Backward fall when trying to sit down',\n",
              " 'lateral fall while sitting, caused by fainting',\n",
              " 'Forward fall while walking caused by a trip',\n",
              " 'lateral fall when trying to sit down',\n",
              " 'Backward fall when trying to sit down',\n",
              " 'Forward fall when trying to sit down',\n",
              " 'lateral fall while sitting, caused by fainting',\n",
              " 'Forward fall while sitting, caused by fainting',\n",
              " 'Forward lateral fall while walking caused by a slip',\n",
              " 'Forward fall when trying to get up',\n",
              " 'Forward fall while walking caused by a slip',\n",
              " 'Forward lateral fall while walking caused by a slip',\n",
              " 'Backward fall while sitting, caused by fainting',\n",
              " 'Forward fall when trying to get up',\n",
              " 'Forward fall while walking caused by a trip',\n",
              " 'lateral fall when trying to sit down',\n",
              " 'Backward fall while sitting, caused by fainting',\n",
              " 'Forward fall when trying to sit down',\n",
              " 'lateral fall while sitting, caused by fainting',\n",
              " 'Fall while walking, with use of hands in a table to dampen fall, caused by fainting',\n",
              " 'Forward fall while walking caused by a slip',\n",
              " 'Forward fall while sitting, caused by fainting',\n",
              " 'Forward fall while jogging caused by a trip',\n",
              " 'Forward fall when trying to get up',\n",
              " ...]"
            ]
          },
          "metadata": {},
          "execution_count": 393
        }
      ]
    },
    {
      "cell_type": "code",
      "source": [
        "y_test"
      ],
      "metadata": {
        "colab": {
          "base_uri": "https://localhost:8080/"
        },
        "id": "smQvZLqhzJcp",
        "outputId": "04d14799-09f3-45ec-fedd-904d8b7772c7"
      },
      "execution_count": null,
      "outputs": [
        {
          "output_type": "execute_result",
          "data": {
            "text/plain": [
              "array([ 6, 13, 11, ..., 14,  4,  9])"
            ]
          },
          "metadata": {},
          "execution_count": 394
        }
      ]
    },
    {
      "cell_type": "code",
      "source": [
        "# Making the Confusion Matrix\n",
        "#print(pd.crosstab(Y_test_label, Y_pred_label, rownames=['Actual Activity'], colnames=['Predicted Activity']))\n",
        "print(confusion_matrix(y_test,Y_pred))\n",
        "print(\"\\n\")\n",
        "print(classification_report(y_test,Y_pred))\n",
        "\n",
        "print(\"Training set score for SVM: %f\" % final_model.score(X_train , y_train))\n",
        "print(\"Testing set score for SVM: %f\" % final_model.score(X_test  , y_test ))"
      ],
      "metadata": {
        "colab": {
          "base_uri": "https://localhost:8080/"
        },
        "id": "BIzp_ryiHSiQ",
        "outputId": "03141723-c670-4869-f643-25e6231db651"
      },
      "execution_count": null,
      "outputs": [
        {
          "output_type": "stream",
          "name": "stdout",
          "text": [
            "[[ 42   1   0   0   0   0   0   4   0   0   0   0   0   0   0]\n",
            " [  0  67   8   0   0   0   0   0   0   0   0   0   0   0   0]\n",
            " [  1   8  89   0   0   0   0   0   0   0   0   1   0   0   0]\n",
            " [  0   0   0 100   0   1   0   1   0   0   1   0   0   0   0]\n",
            " [  0   0   0   0 108   0   2   7   0   8   0   0   0   0   1]\n",
            " [  0   0   0   0   2 141   0   0   3   0   0   0   0   0   0]\n",
            " [  0   1   3   0   1   0  70   2   4  14   0   6   0   0   0]\n",
            " [  0   0   0   2   4   1   0 100   0   0   0   0   0   0   0]\n",
            " [  0   0   0   0   3  16  11   4  56  11   0   2   0   0   1]\n",
            " [  0   0   7   0   2   4  28   4   8  65   0   0   0   0   0]\n",
            " [  0   0   0   0   1   2   0   0   1   0  56   4   0   0   3]\n",
            " [  0  11   0   0  10   0   6   0   8   3   3  86   0   0   0]\n",
            " [  0   0   0   0   0   0   0   0   0   0   0   0  72   4   0]\n",
            " [  0   0   1   0   0   0   0   0   0   0   0   0  10  87   6]\n",
            " [  0   0   0   0  10   0   0   0   0   0   2   0   2   2 120]]\n",
            "\n",
            "\n",
            "              precision    recall  f1-score   support\n",
            "\n",
            "           0       0.98      0.89      0.93        47\n",
            "           1       0.76      0.89      0.82        75\n",
            "           2       0.82      0.90      0.86        99\n",
            "           3       0.98      0.97      0.98       103\n",
            "           4       0.77      0.86      0.81       126\n",
            "           5       0.85      0.97      0.91       146\n",
            "           6       0.60      0.69      0.64       101\n",
            "           7       0.82      0.93      0.87       107\n",
            "           8       0.70      0.54      0.61       104\n",
            "           9       0.64      0.55      0.59       118\n",
            "          10       0.90      0.84      0.87        67\n",
            "          11       0.87      0.68      0.76       127\n",
            "          12       0.86      0.95      0.90        76\n",
            "          13       0.94      0.84      0.88       104\n",
            "          14       0.92      0.88      0.90       136\n",
            "\n",
            "    accuracy                           0.82      1536\n",
            "   macro avg       0.83      0.83      0.82      1536\n",
            "weighted avg       0.82      0.82      0.82      1536\n",
            "\n",
            "Training set score for SVM: 0.833938\n",
            "Testing set score for SVM: 0.819661\n"
          ]
        }
      ]
    },
    {
      "cell_type": "code",
      "source": [
        "y_test.shape"
      ],
      "metadata": {
        "colab": {
          "base_uri": "https://localhost:8080/"
        },
        "id": "d8tvDmPForHP",
        "outputId": "818cf346-71a0-416a-f025-974657dbb540"
      },
      "execution_count": null,
      "outputs": [
        {
          "output_type": "execute_result",
          "data": {
            "text/plain": [
              "(1536,)"
            ]
          },
          "metadata": {},
          "execution_count": 396
        }
      ]
    },
    {
      "cell_type": "code",
      "source": [
        "y_pred.shape"
      ],
      "metadata": {
        "colab": {
          "base_uri": "https://localhost:8080/"
        },
        "id": "89xcfnBSoxX3",
        "outputId": "e0286d75-a538-45ea-ddf8-b7d9b2e663f9"
      },
      "execution_count": null,
      "outputs": [
        {
          "output_type": "execute_result",
          "data": {
            "text/plain": [
              "(1536,)"
            ]
          },
          "metadata": {},
          "execution_count": 397
        }
      ]
    },
    {
      "cell_type": "code",
      "source": [
        "true_class_names = ['Forward fall when trying to sit down', 'Backward fall when trying to sit down','lateral fall when trying to sit down','Forward fall when trying to get up','lateral fall when trying to get up','Forward fall while sitting, caused by fainting','lateral fall while sitting, caused by fainting','Backward fall while sitting, caused by fainting','Vertical(forward) fall while walking caused by fainting','Fall while walking, with use of hands in a table to dampen fall, caused by fainting','Forward fall while walking caused by a trip','Forward fall while jogging caused by a trip','Forward fall while walking caused by a slip','Forward lateral fall while walking caused by a slip','Backward fall while walking caused by a slip']\n",
        "predicted_class_names = ['Forward fall when trying to sit down', 'Backward fall when trying to sit down','lateral fall when trying to sit down','Forward fall when trying to get up','lateral fall when trying to get up','Forward fall while sitting, caused by fainting','lateral fall while sitting, caused by fainting','Backward fall while sitting, caused by fainting','Vertical(forward) fall while walking caused by fainting','Fall while walking, with use of hands in a table to dampen fall, caused by fainting','Forward fall while walking caused by a trip','Forward fall while jogging caused by a trip','Forward fall while walking caused by a slip','Forward lateral fall while walking caused by a slip','Backward fall while walking caused by a slip']\n",
        "df_cnf_matrix = pd.DataFrame(confusion_matrix(y_test,Y_pred), index = true_class_names, columns = predicted_class_names)\n",
        "plt.figure(figsize=(15,10))\n",
        "sns.heatmap(df_cnf_matrix, annot=True, fmt='d',  cmap=plt.cm.rainbow)"
      ],
      "metadata": {
        "id": "8R-MPc64Hjgs",
        "colab": {
          "base_uri": "https://localhost:8080/",
          "height": 1000
        },
        "outputId": "a3d289bb-fa6a-4d7a-8f2d-811b086bc958"
      },
      "execution_count": null,
      "outputs": [
        {
          "output_type": "execute_result",
          "data": {
            "text/plain": [
              "<matplotlib.axes._subplots.AxesSubplot at 0x7ff89f1f7110>"
            ]
          },
          "metadata": {},
          "execution_count": 398
        },
        {
          "output_type": "display_data",
          "data": {
            "image/png": "[encoded data removed]",
            "text/plain": [
              "<Figure size 1080x720 with 2 Axes>"
            ]
          },
          "metadata": {
            "needs_background": "light"
          }
        }
      ]
    },
    {
      "cell_type": "code",
      "source": [
        ""
      ],
      "metadata": {
        "id": "PPTql7dlmHMT"
      },
      "execution_count": null,
      "outputs": []
    },
    {
      "cell_type": "code",
      "source": [
        ""
      ],
      "metadata": {
        "id": "-wqlj8AVm57_"
      },
      "execution_count": null,
      "outputs": []
    },
    {
      "cell_type": "code",
      "source": [
        ""
      ],
      "metadata": {
        "id": "aGowllOLm8Qa"
      },
      "execution_count": null,
      "outputs": []
    }
  ]
}